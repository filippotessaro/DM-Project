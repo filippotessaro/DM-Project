{
 "cells": [
  {
   "cell_type": "markdown",
   "metadata": {},
   "source": [
    "# **Basket and Recipes**\n",
    "This script tries to match each basket in the dataset with the corresponding cuisine style"
   ]
  },
  {
   "cell_type": "markdown",
   "metadata": {},
   "source": [
    "### **Import** section"
   ]
  },
  {
   "cell_type": "code",
   "execution_count": 2,
   "metadata": {},
   "outputs": [],
   "source": [
    "from multiprocessing import Pool\n",
    "from random import sample\n",
    "import numpy as np\n",
    "import pandas as pd\n",
    "import itertools\n",
    "import json\n",
    "import ast"
   ]
  },
  {
   "cell_type": "markdown",
   "metadata": {},
   "source": [
    "---\n",
    "### **Natural Language Toolkit**\n",
    "#### Used for matching items in the basket dataset and recipes dataset"
   ]
  },
  {
   "cell_type": "code",
   "execution_count": 3,
   "metadata": {},
   "outputs": [
    {
     "name": "stderr",
     "output_type": "stream",
     "text": [
      "[nltk_data] Downloading package stopwords to /home/elia/nltk_data...\n",
      "[nltk_data]   Package stopwords is already up-to-date!\n",
      "[nltk_data] Downloading package punkt to /home/elia/nltk_data...\n",
      "[nltk_data]   Package punkt is already up-to-date!\n"
     ]
    }
   ],
   "source": [
    "from nltk.corpus import stopwords\n",
    "from nltk.tokenize import word_tokenize\n",
    "from nltk.stem import PorterStemmer\n",
    "from nltk.tokenize import sent_tokenize, word_tokenize\n",
    "import nltk\n",
    "import re\n",
    "\n",
    "nltk.download('stopwords')\n",
    "nltk.download('punkt')\n",
    "\n",
    "ps = PorterStemmer()\n",
    "\n",
    "# This function is used to convert a string into another similar string\n",
    "# By removing plurals, stop words, punctuation, and so on...\n",
    "def itemParser(s):\n",
    "    \n",
    "    s = s.replace(\"\\n\", \"\")\n",
    "    s = re.sub(r'[^\\w\\s]', '', s)\n",
    "    s = re.sub(r\"(\\d)\", \"\", s)\n",
    "    s = re.sub(r'\\([^)]*\\)', '', s)\n",
    "    s = re.sub(u'\\w*\\u2122', '', s)\n",
    "    s = s.lower()\n",
    "\n",
    "    stop_words = set(stopwords.words('english'))\n",
    "    word_tokens = word_tokenize(s)\n",
    "\n",
    "    filtered_sentence = [ps.stem(w) for w in word_tokens if not w in stop_words]\n",
    "    s = ' '.join(filtered_sentence)\n",
    "    \n",
    "    return s"
   ]
  },
  {
   "cell_type": "markdown",
   "metadata": {},
   "source": [
    "---\n",
    "### **Utility** function"
   ]
  },
  {
   "cell_type": "code",
   "execution_count": 4,
   "metadata": {},
   "outputs": [],
   "source": [
    "def jaccard_sim(s1, s2):\n",
    "    return len(s1.intersection(s2))/len(s1.union(s2))"
   ]
  },
  {
   "cell_type": "code",
   "execution_count": 5,
   "metadata": {},
   "outputs": [],
   "source": [
    "def getRecipeByID(rec, idr):\n",
    "    data = rec[rec.id.eq(idr)]\n",
    "    return (ast.literal_eval(data.new_ingredients.values[0]), data.cuisine.values[0])"
   ]
  },
  {
   "cell_type": "markdown",
   "metadata": {},
   "source": [
    "---"
   ]
  },
  {
   "cell_type": "markdown",
   "metadata": {},
   "source": [
    "### **DataSet** Reading"
   ]
  },
  {
   "cell_type": "code",
   "execution_count": 4,
   "metadata": {},
   "outputs": [],
   "source": [
    "baskets = []\n",
    "with open('./norm-dataset/groceries.txt', 'r') as f:\n",
    "    for line in f:\n",
    "        basket = []\n",
    "        items = line.split(\",\")\n",
    "        for item in items:\n",
    "            parsed = itemParser(item)\n",
    "            basket.append(parsed)\n",
    "        basket = set(basket)\n",
    "        baskets.append(basket)"
   ]
  },
  {
   "cell_type": "markdown",
   "metadata": {},
   "source": [
    "In order to make the computation faster, we take a sample (10%) of the whole recipes dataset"
   ]
  },
  {
   "cell_type": "code",
   "execution_count": 6,
   "metadata": {},
   "outputs": [],
   "source": [
    "keep = 0.1\n",
    "recipes = pd.read_csv('./data/train-clean.csv')\n",
    "sample_recipes = recipes.sample(n=int(len(recipes)*keep))"
   ]
  },
  {
   "cell_type": "markdown",
   "metadata": {},
   "source": [
    "---\n",
    "### **Parsing** Functions"
   ]
  },
  {
   "cell_type": "code",
   "execution_count": 7,
   "metadata": {},
   "outputs": [],
   "source": [
    "def parse_ingredients(string_vector):    \n",
    "    # Compact and remove inner quote symbols\n",
    "    string_vector = string_vector.replace(\"', '\", ',')    \n",
    "    # Remove brakets, first and last quote symbols\n",
    "    string_vector = string_vector[2:-2]    \n",
    "    # Tokenize and make a set\n",
    "    string_vector = set(string_vector.split(\",\"))    \n",
    "    return string_vector"
   ]
  },
  {
   "cell_type": "code",
   "execution_count": 8,
   "metadata": {},
   "outputs": [],
   "source": [
    "def parse_recipes_dataset(recipes):\n",
    "    parsed_recipes = []\n",
    "    for recipe in recipes.itertuples(index=True, name='Pandas'):\n",
    "        cuisine = getattr(recipe, \"cuisine\")\n",
    "        ID = getattr(recipe, \"id\")\n",
    "        ingredients = parse_ingredients(getattr(recipe, \"new_ingredients\"))\n",
    "        parsed_recipes.append((cuisine, ID, ingredients))        \n",
    "    return parsed_recipes"
   ]
  },
  {
   "cell_type": "markdown",
   "metadata": {},
   "source": [
    "---"
   ]
  },
  {
   "cell_type": "markdown",
   "metadata": {},
   "source": [
    "### **Matching**"
   ]
  },
  {
   "cell_type": "code",
   "execution_count": 9,
   "metadata": {},
   "outputs": [],
   "source": [
    "def match(basket, recipes):\n",
    "\n",
    "    # valid is the array containing all those recipes having a positive similarity\n",
    "    valid = []\n",
    "    \n",
    "    # For all the (sampled) recipes in the dataset\n",
    "    for recipe in recipes:\n",
    "        \n",
    "        # Get the data\n",
    "        cuisine     = recipe[0]\n",
    "        ID          = recipe[1]\n",
    "        ingredients = recipe[2]\n",
    "        \n",
    "        # Compute the similarity\n",
    "        sim = jaccard_sim(ingredients, basket)\n",
    "        if sim > 0:\n",
    "            valid.append((float(sim), cuisine, ID))\n",
    "            \n",
    "    basket = list(basket)\n",
    "    \n",
    "    return (basket, valid)"
   ]
  },
  {
   "cell_type": "code",
   "execution_count": 10,
   "metadata": {},
   "outputs": [],
   "source": [
    "# In order to work properly, the dataset must be parsed (convert string ingredients to lists)\n",
    "parsed_dataset = parse_recipes_dataset(recipes)"
   ]
  },
  {
   "cell_type": "code",
   "execution_count": 10,
   "metadata": {},
   "outputs": [],
   "source": [
    "# Wrapper\n",
    "def matching(basket):\n",
    "    return match(basket, parsed_dataset)\n",
    "\n",
    "cores = 6\n",
    "with Pool(cores) as pool:\n",
    "    return_values = pool.map(matching, baskets)    \n",
    "    best_assoc = []\n",
    "    for value in return_values:\n",
    "        best_assoc.append(value)"
   ]
  },
  {
   "cell_type": "markdown",
   "metadata": {},
   "source": [
    "---\n",
    "### **Cleaning and Saving**"
   ]
  },
  {
   "cell_type": "code",
   "execution_count": 11,
   "metadata": {},
   "outputs": [
    {
     "name": "stdout",
     "output_type": "stream",
     "text": [
      "Max Basket Size: 32\n"
     ]
    }
   ],
   "source": [
    "max_basket_size = 0\n",
    "for basket in baskets:\n",
    "    if len(basket) > max_basket_size:\n",
    "        max_basket_size = len(basket)\n",
    "print(\"Max Basket Size: \" + str(max_basket_size))"
   ]
  },
  {
   "cell_type": "code",
   "execution_count": 12,
   "metadata": {},
   "outputs": [],
   "source": [
    "output = pd.DataFrame(best_assoc)\n",
    "output.columns = [\"Basket\", \"Recipes\"]"
   ]
  },
  {
   "cell_type": "code",
   "execution_count": 13,
   "metadata": {},
   "outputs": [
    {
     "data": {
      "text/html": [
       "<div>\n",
       "<style scoped>\n",
       "    .dataframe tbody tr th:only-of-type {\n",
       "        vertical-align: middle;\n",
       "    }\n",
       "\n",
       "    .dataframe tbody tr th {\n",
       "        vertical-align: top;\n",
       "    }\n",
       "\n",
       "    .dataframe thead th {\n",
       "        text-align: right;\n",
       "    }\n",
       "</style>\n",
       "<table border=\"1\" class=\"dataframe\">\n",
       "  <thead>\n",
       "    <tr style=\"text-align: right;\">\n",
       "      <th></th>\n",
       "      <th>Basket</th>\n",
       "      <th>Recipes</th>\n",
       "    </tr>\n",
       "  </thead>\n",
       "  <tbody>\n",
       "    <tr>\n",
       "      <th>0</th>\n",
       "      <td>[citru fruit, semifinish bread, readi soup, ma...</td>\n",
       "      <td>[(0.05, irish, 31027), (0.1, french, 18643), (...</td>\n",
       "    </tr>\n",
       "    <tr>\n",
       "      <th>1</th>\n",
       "      <td>[yogurt, tropic fruit, coff]</td>\n",
       "      <td>[(0.125, french, 36148), (0.1111111111111111, ...</td>\n",
       "    </tr>\n",
       "    <tr>\n",
       "      <th>2</th>\n",
       "      <td>[whole milk]</td>\n",
       "      <td>[(0.14285714285714285, mexican, 25164), (0.058...</td>\n",
       "    </tr>\n",
       "    <tr>\n",
       "      <th>3</th>\n",
       "      <td>[meat spread, yogurt, pip fruit, cream chee]</td>\n",
       "      <td>[]</td>\n",
       "    </tr>\n",
       "    <tr>\n",
       "      <th>4</th>\n",
       "      <td>[conden milk, veget, whole milk, long life bak...</td>\n",
       "      <td>[(0.1, mexican, 25164), (0.05, moroccan, 27858...</td>\n",
       "    </tr>\n",
       "    <tr>\n",
       "      <th>...</th>\n",
       "      <td>...</td>\n",
       "      <td>...</td>\n",
       "    </tr>\n",
       "    <tr>\n",
       "      <th>19665</th>\n",
       "      <td>[chocol, citru fruit, whippedsour cream, beef,...</td>\n",
       "      <td>[(0.03571428571428571, filipino, 20130), (0.02...</td>\n",
       "    </tr>\n",
       "    <tr>\n",
       "      <th>19666</th>\n",
       "      <td>[cook chocol]</td>\n",
       "      <td>[]</td>\n",
       "    </tr>\n",
       "    <tr>\n",
       "      <th>19667</th>\n",
       "      <td>[citru fruit, frozen dessert, yogurt, veget, c...</td>\n",
       "      <td>[(0.047619047619047616, filipino, 20130), (0.0...</td>\n",
       "    </tr>\n",
       "    <tr>\n",
       "      <th>19668</th>\n",
       "      <td>[bottl beer, semifinish bread, soda, bottl water]</td>\n",
       "      <td>[(0.07142857142857142, indian, 18452), (0.0555...</td>\n",
       "    </tr>\n",
       "    <tr>\n",
       "      <th>19669</th>\n",
       "      <td>[veget, shop bag, tropic fruit, vinegar, chicken]</td>\n",
       "      <td>[(0.1, greek, 34471), (0.07692307692307693, fi...</td>\n",
       "    </tr>\n",
       "  </tbody>\n",
       "</table>\n",
       "<p>19670 rows × 2 columns</p>\n",
       "</div>"
      ],
      "text/plain": [
       "                                                  Basket  \\\n",
       "0      [citru fruit, semifinish bread, readi soup, ma...   \n",
       "1                           [yogurt, tropic fruit, coff]   \n",
       "2                                           [whole milk]   \n",
       "3           [meat spread, yogurt, pip fruit, cream chee]   \n",
       "4      [conden milk, veget, whole milk, long life bak...   \n",
       "...                                                  ...   \n",
       "19665  [chocol, citru fruit, whippedsour cream, beef,...   \n",
       "19666                                      [cook chocol]   \n",
       "19667  [citru fruit, frozen dessert, yogurt, veget, c...   \n",
       "19668  [bottl beer, semifinish bread, soda, bottl water]   \n",
       "19669  [veget, shop bag, tropic fruit, vinegar, chicken]   \n",
       "\n",
       "                                                 Recipes  \n",
       "0      [(0.05, irish, 31027), (0.1, french, 18643), (...  \n",
       "1      [(0.125, french, 36148), (0.1111111111111111, ...  \n",
       "2      [(0.14285714285714285, mexican, 25164), (0.058...  \n",
       "3                                                     []  \n",
       "4      [(0.1, mexican, 25164), (0.05, moroccan, 27858...  \n",
       "...                                                  ...  \n",
       "19665  [(0.03571428571428571, filipino, 20130), (0.02...  \n",
       "19666                                                 []  \n",
       "19667  [(0.047619047619047616, filipino, 20130), (0.0...  \n",
       "19668  [(0.07142857142857142, indian, 18452), (0.0555...  \n",
       "19669  [(0.1, greek, 34471), (0.07692307692307693, fi...  \n",
       "\n",
       "[19670 rows x 2 columns]"
      ]
     },
     "metadata": {},
     "output_type": "display_data"
    }
   ],
   "source": [
    "display(output)"
   ]
  },
  {
   "cell_type": "code",
   "execution_count": 12,
   "metadata": {},
   "outputs": [],
   "source": [
    "def save_assoc_raw(assoc_list, fname):\n",
    "    with open(fname, 'w') as out_file:\n",
    "        json.dump(assoc_list, out_file)\n",
    "        out_file.close()"
   ]
  },
  {
   "cell_type": "code",
   "execution_count": 13,
   "metadata": {},
   "outputs": [],
   "source": [
    "def save_assoc_pickle(pd_assoc_list, fname):\n",
    "    pd_assoc_list.to_pickle(fname)"
   ]
  },
  {
   "cell_type": "code",
   "execution_count": 14,
   "metadata": {},
   "outputs": [],
   "source": [
    "def load_assoc_raw(fname):\n",
    "    with open(fname, 'r') as in_file:\n",
    "        content = json.load(in_file)\n",
    "        in_file.close()\n",
    "        return content"
   ]
  },
  {
   "cell_type": "code",
   "execution_count": 15,
   "metadata": {},
   "outputs": [],
   "source": [
    "def load_assoc_pickle(fname):\n",
    "    return pd.read_pickle(fname)"
   ]
  },
  {
   "cell_type": "code",
   "execution_count": 40,
   "metadata": {},
   "outputs": [],
   "source": [
    "save_assoc_raw(best_assoc, './data/raw_assoc_basket-recipes.txt')\n",
    "test1 = load_assoc_raw('./data/raw_assoc_basket-recipes.txt')"
   ]
  },
  {
   "cell_type": "code",
   "execution_count": 18,
   "metadata": {},
   "outputs": [],
   "source": [
    "save_assoc_pickle(output, './data/basket-recipes.pkl')\n",
    "test2 = load_assoc_pickle('./data/basket-recipes.pkl')"
   ]
  },
  {
   "cell_type": "code",
   "execution_count": 42,
   "metadata": {},
   "outputs": [
    {
     "data": {
      "text/html": [
       "<div>\n",
       "<style scoped>\n",
       "    .dataframe tbody tr th:only-of-type {\n",
       "        vertical-align: middle;\n",
       "    }\n",
       "\n",
       "    .dataframe tbody tr th {\n",
       "        vertical-align: top;\n",
       "    }\n",
       "\n",
       "    .dataframe thead th {\n",
       "        text-align: right;\n",
       "    }\n",
       "</style>\n",
       "<table border=\"1\" class=\"dataframe\">\n",
       "  <thead>\n",
       "    <tr style=\"text-align: right;\">\n",
       "      <th></th>\n",
       "      <th>Basket</th>\n",
       "      <th>Recipes</th>\n",
       "    </tr>\n",
       "  </thead>\n",
       "  <tbody>\n",
       "    <tr>\n",
       "      <th>0</th>\n",
       "      <td>[margarin, citru fruit, readi soup, semifinish...</td>\n",
       "      <td>[(0.05, irish, 31027), (0.1, french, 18643), (...</td>\n",
       "    </tr>\n",
       "    <tr>\n",
       "      <th>1</th>\n",
       "      <td>[yogurt, tropic fruit, coff]</td>\n",
       "      <td>[(0.125, french, 36148), (0.1111111111111111, ...</td>\n",
       "    </tr>\n",
       "    <tr>\n",
       "      <th>2</th>\n",
       "      <td>[whole milk]</td>\n",
       "      <td>[(0.14285714285714285, mexican, 25164), (0.058...</td>\n",
       "    </tr>\n",
       "    <tr>\n",
       "      <th>3</th>\n",
       "      <td>[yogurt, pip fruit, meat spread, cream chee]</td>\n",
       "      <td>[]</td>\n",
       "    </tr>\n",
       "    <tr>\n",
       "      <th>4</th>\n",
       "      <td>[long life bakeri product, conden milk, veget,...</td>\n",
       "      <td>[(0.1, mexican, 25164), (0.05, moroccan, 27858...</td>\n",
       "    </tr>\n",
       "    <tr>\n",
       "      <th>...</th>\n",
       "      <td>...</td>\n",
       "      <td>...</td>\n",
       "    </tr>\n",
       "    <tr>\n",
       "      <th>19665</th>\n",
       "      <td>[napkin, salti snack, whippedsour cream, hambu...</td>\n",
       "      <td>[(0.03571428571428571, filipino, 20130), (0.02...</td>\n",
       "    </tr>\n",
       "    <tr>\n",
       "      <th>19666</th>\n",
       "      <td>[cook chocol]</td>\n",
       "      <td>[]</td>\n",
       "    </tr>\n",
       "    <tr>\n",
       "      <th>19667</th>\n",
       "      <td>[veget, rum, cling filmbag, citru fruit, butte...</td>\n",
       "      <td>[(0.047619047619047616, filipino, 20130), (0.0...</td>\n",
       "    </tr>\n",
       "    <tr>\n",
       "      <th>19668</th>\n",
       "      <td>[bottl beer, bottl water, soda, semifinish bread]</td>\n",
       "      <td>[(0.07142857142857142, indian, 18452), (0.0555...</td>\n",
       "    </tr>\n",
       "    <tr>\n",
       "      <th>19669</th>\n",
       "      <td>[veget, tropic fruit, shop bag, chicken, vinegar]</td>\n",
       "      <td>[(0.1, greek, 34471), (0.07692307692307693, fi...</td>\n",
       "    </tr>\n",
       "  </tbody>\n",
       "</table>\n",
       "<p>19670 rows × 2 columns</p>\n",
       "</div>"
      ],
      "text/plain": [
       "                                                  Basket  \\\n",
       "0      [margarin, citru fruit, readi soup, semifinish...   \n",
       "1                           [yogurt, tropic fruit, coff]   \n",
       "2                                           [whole milk]   \n",
       "3           [yogurt, pip fruit, meat spread, cream chee]   \n",
       "4      [long life bakeri product, conden milk, veget,...   \n",
       "...                                                  ...   \n",
       "19665  [napkin, salti snack, whippedsour cream, hambu...   \n",
       "19666                                      [cook chocol]   \n",
       "19667  [veget, rum, cling filmbag, citru fruit, butte...   \n",
       "19668  [bottl beer, bottl water, soda, semifinish bread]   \n",
       "19669  [veget, tropic fruit, shop bag, chicken, vinegar]   \n",
       "\n",
       "                                                 Recipes  \n",
       "0      [(0.05, irish, 31027), (0.1, french, 18643), (...  \n",
       "1      [(0.125, french, 36148), (0.1111111111111111, ...  \n",
       "2      [(0.14285714285714285, mexican, 25164), (0.058...  \n",
       "3                                                     []  \n",
       "4      [(0.1, mexican, 25164), (0.05, moroccan, 27858...  \n",
       "...                                                  ...  \n",
       "19665  [(0.03571428571428571, filipino, 20130), (0.02...  \n",
       "19666                                                 []  \n",
       "19667  [(0.047619047619047616, filipino, 20130), (0.0...  \n",
       "19668  [(0.07142857142857142, indian, 18452), (0.0555...  \n",
       "19669  [(0.1, greek, 34471), (0.07692307692307693, fi...  \n",
       "\n",
       "[19670 rows x 2 columns]"
      ]
     },
     "metadata": {},
     "output_type": "display_data"
    }
   ],
   "source": [
    "display(test2)"
   ]
  },
  {
   "cell_type": "markdown",
   "metadata": {},
   "source": [
    "---"
   ]
  },
  {
   "cell_type": "markdown",
   "metadata": {},
   "source": [
    "### **Sorting Recipes by Similarity**"
   ]
  },
  {
   "cell_type": "code",
   "execution_count": 26,
   "metadata": {},
   "outputs": [],
   "source": [
    "sorted_assoc = []\n",
    "for association in best_assoc:\n",
    "    \n",
    "    basket = association[0]\n",
    "    detail = association[1]\n",
    "    \n",
    "    # Sort detail with respect to the similarity\n",
    "    detail = sorted(detail, key=lambda x: x[0], reverse=True)\n",
    "    sorted_assoc.append((basket, detail))\n",
    "    "
   ]
  },
  {
   "cell_type": "code",
   "execution_count": 34,
   "metadata": {},
   "outputs": [
    {
     "data": {
      "text/html": [
       "<div>\n",
       "<style scoped>\n",
       "    .dataframe tbody tr th:only-of-type {\n",
       "        vertical-align: middle;\n",
       "    }\n",
       "\n",
       "    .dataframe tbody tr th {\n",
       "        vertical-align: top;\n",
       "    }\n",
       "\n",
       "    .dataframe thead th {\n",
       "        text-align: right;\n",
       "    }\n",
       "</style>\n",
       "<table border=\"1\" class=\"dataframe\">\n",
       "  <thead>\n",
       "    <tr style=\"text-align: right;\">\n",
       "      <th></th>\n",
       "      <th>Basket</th>\n",
       "      <th>Recipes</th>\n",
       "    </tr>\n",
       "  </thead>\n",
       "  <tbody>\n",
       "    <tr>\n",
       "      <th>0</th>\n",
       "      <td>[citru fruit, semifinish bread, readi soup, ma...</td>\n",
       "      <td>[(0.14285714285714285, mexican, 3500), (0.1428...</td>\n",
       "    </tr>\n",
       "    <tr>\n",
       "      <th>1</th>\n",
       "      <td>[yogurt, tropic fruit, coff]</td>\n",
       "      <td>[(0.125, french, 36148), (0.1111111111111111, ...</td>\n",
       "    </tr>\n",
       "    <tr>\n",
       "      <th>2</th>\n",
       "      <td>[whole milk]</td>\n",
       "      <td>[(0.5, indian, 32030), (0.5, indian, 9488), (0...</td>\n",
       "    </tr>\n",
       "    <tr>\n",
       "      <th>3</th>\n",
       "      <td>[meat spread, yogurt, pip fruit, cream chee]</td>\n",
       "      <td>[]</td>\n",
       "    </tr>\n",
       "    <tr>\n",
       "      <th>4</th>\n",
       "      <td>[conden milk, veget, whole milk, long life bak...</td>\n",
       "      <td>[(0.2, indian, 32030), (0.2, indian, 9488), (0...</td>\n",
       "    </tr>\n",
       "    <tr>\n",
       "      <th>...</th>\n",
       "      <td>...</td>\n",
       "      <td>...</td>\n",
       "    </tr>\n",
       "    <tr>\n",
       "      <th>19665</th>\n",
       "      <td>[chocol, citru fruit, whippedsour cream, beef,...</td>\n",
       "      <td>[(0.19047619047619047, southern_us, 38721), (0...</td>\n",
       "    </tr>\n",
       "    <tr>\n",
       "      <th>19666</th>\n",
       "      <td>[cook chocol]</td>\n",
       "      <td>[]</td>\n",
       "    </tr>\n",
       "    <tr>\n",
       "      <th>19667</th>\n",
       "      <td>[citru fruit, frozen dessert, yogurt, veget, c...</td>\n",
       "      <td>[(0.15384615384615385, italian, 6539), (0.1428...</td>\n",
       "    </tr>\n",
       "    <tr>\n",
       "      <th>19668</th>\n",
       "      <td>[bottl beer, semifinish bread, soda, bottl water]</td>\n",
       "      <td>[(0.16666666666666666, southern_us, 46178), (0...</td>\n",
       "    </tr>\n",
       "    <tr>\n",
       "      <th>19669</th>\n",
       "      <td>[veget, shop bag, tropic fruit, vinegar, chicken]</td>\n",
       "      <td>[(0.25, filipino, 4610), (0.2, chinese, 8294),...</td>\n",
       "    </tr>\n",
       "  </tbody>\n",
       "</table>\n",
       "<p>19670 rows × 2 columns</p>\n",
       "</div>"
      ],
      "text/plain": [
       "                                                  Basket  \\\n",
       "0      [citru fruit, semifinish bread, readi soup, ma...   \n",
       "1                           [yogurt, tropic fruit, coff]   \n",
       "2                                           [whole milk]   \n",
       "3           [meat spread, yogurt, pip fruit, cream chee]   \n",
       "4      [conden milk, veget, whole milk, long life bak...   \n",
       "...                                                  ...   \n",
       "19665  [chocol, citru fruit, whippedsour cream, beef,...   \n",
       "19666                                      [cook chocol]   \n",
       "19667  [citru fruit, frozen dessert, yogurt, veget, c...   \n",
       "19668  [bottl beer, semifinish bread, soda, bottl water]   \n",
       "19669  [veget, shop bag, tropic fruit, vinegar, chicken]   \n",
       "\n",
       "                                                 Recipes  \n",
       "0      [(0.14285714285714285, mexican, 3500), (0.1428...  \n",
       "1      [(0.125, french, 36148), (0.1111111111111111, ...  \n",
       "2      [(0.5, indian, 32030), (0.5, indian, 9488), (0...  \n",
       "3                                                     []  \n",
       "4      [(0.2, indian, 32030), (0.2, indian, 9488), (0...  \n",
       "...                                                  ...  \n",
       "19665  [(0.19047619047619047, southern_us, 38721), (0...  \n",
       "19666                                                 []  \n",
       "19667  [(0.15384615384615385, italian, 6539), (0.1428...  \n",
       "19668  [(0.16666666666666666, southern_us, 46178), (0...  \n",
       "19669  [(0.25, filipino, 4610), (0.2, chinese, 8294),...  \n",
       "\n",
       "[19670 rows x 2 columns]"
      ]
     },
     "metadata": {},
     "output_type": "display_data"
    }
   ],
   "source": [
    "output = pd.DataFrame(sorted_assoc)\n",
    "output.columns = [\"Basket\", \"Recipes\"]\n",
    "save_assoc_pickle(output, './data/basket-recipes - sorted.pkl')\n",
    "display(output)"
   ]
  },
  {
   "cell_type": "markdown",
   "metadata": {},
   "source": [
    "---\n",
    "### **Analysis**"
   ]
  },
  {
   "cell_type": "code",
   "execution_count": 23,
   "metadata": {},
   "outputs": [],
   "source": [
    "sorted_assoc = load_assoc_raw('./data/raw_assoc_basket-recipes.txt')"
   ]
  },
  {
   "cell_type": "code",
   "execution_count": null,
   "metadata": {},
   "outputs": [],
   "source": []
  },
  {
   "cell_type": "code",
   "execution_count": 25,
   "metadata": {},
   "outputs": [],
   "source": [
    "single_recipes = []\n",
    "for basket in sorted_assoc:\n",
    "    if len(basket[1]) == 1:\n",
    "        bask = basket[0]\n",
    "        \n",
    "        # Get data\n",
    "        cuisine = basket[1][0][1]\n",
    "        rec_id = basket[1][0][2]\n",
    "        \n",
    "        det = (cuisine, rec_id)\n",
    "        single_recipes.append((bask, det))"
   ]
  },
  {
   "cell_type": "code",
   "execution_count": 26,
   "metadata": {},
   "outputs": [
    {
     "data": {
      "text/plain": [
       "[(['frankfurt', 'bottl water', 'rollsbun'], ('french', 13111)),\n",
       " (['frankfurt', 'dessert'], ('french', 13111)),\n",
       " (['frankfurt', 'rollsbun'], ('french', 13111)),\n",
       " (['frankfurt', 'rollsbun'], ('french', 13111)),\n",
       " (['frankfurt', 'hygien articl', 'bottl water', 'rollsbun', 'fruitveget juic'],\n",
       "  ('french', 13111)),\n",
       " (['frankfurt', 'rollsbun'], ('french', 13111)),\n",
       " (['yogurt', 'frankfurt'], ('french', 13111)),\n",
       " (['frankfurt'], ('french', 13111)),\n",
       " (['frankfurt', 'rollsbun'], ('french', 13111)),\n",
       " (['frankfurt', 'rollsbun'], ('french', 13111)),\n",
       " (['bottl beer', 'frankfurt'], ('french', 13111)),\n",
       " (['deterg', 'frozen fruit'], ('jamaican', 34911)),\n",
       " (['frozen meal', 'frankfurt', 'shop bag', 'semifinish bread'],\n",
       "  ('french', 13111)),\n",
       " (['pip fruit', 'frankfurt', 'bottl water', 'rollsbun'], ('french', 13111)),\n",
       " (['hamburg meat', 'frankfurt'], ('french', 13111)),\n",
       " (['frankfurt', 'rollsbun', 'fruitveget juic'], ('french', 13111)),\n",
       " (['frankfurt'], ('french', 13111)),\n",
       " (['frankfurt', 'domest egg'], ('french', 13111)),\n",
       " (['pip fruit', 'frankfurt', 'newspap'], ('french', 13111)),\n",
       " (['frankfurt', 'rollsbun'], ('french', 13111)),\n",
       " (['frankfurt'], ('french', 13111)),\n",
       " (['frankfurt', 'frozen potato product'], ('french', 13111)),\n",
       " (['napkin', 'frankfurt', 'rollsbun'], ('french', 13111)),\n",
       " (['frankfurt', 'domest egg', 'rollsbun'], ('french', 13111)),\n",
       " (['frankfurt', 'photofilm'], ('french', 13111)),\n",
       " (['frankfurt', 'brown bread', 'rollsbun', 'shop bag'], ('french', 13111)),\n",
       " (['frankfurt', 'rollsbun'], ('french', 13111)),\n",
       " (['frankfurt'], ('french', 13111)),\n",
       " (['bottl beer', 'frankfurt'], ('french', 13111)),\n",
       " (['bottl beer', 'frankfurt', 'brown bread'], ('french', 13111)),\n",
       " (['frankfurt', 'curd chee'], ('french', 13111)),\n",
       " (['specialti chocol', 'pot plant', 'cereal'], ('irish', 36537)),\n",
       " (['frankfurt', 'rollsbun'], ('french', 13111)),\n",
       " (['deterg', 'cereal'], ('irish', 36537)),\n",
       " (['frankfurt', 'rollsbun'], ('french', 13111)),\n",
       " (['frankfurt', 'dessert'], ('french', 13111)),\n",
       " (['frankfurt', 'rollsbun'], ('french', 13111)),\n",
       " (['soft chee', 'frankfurt', 'rollsbun'], ('french', 13111)),\n",
       " (['chew gum', 'frankfurt', 'rollsbun'], ('french', 13111)),\n",
       " (['frankfurt', 'rollsbun'], ('french', 13111)),\n",
       " (['frankfurt', 'rollsbun'], ('french', 13111)),\n",
       " (['frankfurt'], ('french', 13111)),\n",
       " (['frankfurt'], ('french', 13111)),\n",
       " (['frankfurt', 'rollsbun', 'dish', 'shop bag'], ('french', 13111)),\n",
       " (['bottl beer', 'frankfurt'], ('french', 13111)),\n",
       " (['frankfurt', 'whippedsour cream', 'coff'], ('french', 13111)),\n",
       " (['frankfurt', 'rollsbun'], ('french', 13111)),\n",
       " (['frankfurt'], ('french', 13111)),\n",
       " (['cereal'], ('irish', 36537)),\n",
       " (['frankfurt', 'rollsbun'], ('french', 13111)),\n",
       " (['frankfurt', 'bottl water', 'rollsbun'], ('french', 13111)),\n",
       " (['hamburg meat', 'beverag', 'frankfurt', 'shop bag'], ('french', 13111)),\n",
       " (['frankfurt', 'butter milk', 'coff', 'rollsbun'], ('french', 13111)),\n",
       " (['frankfurt'], ('french', 13111)),\n",
       " (['frankfurt'], ('french', 13111)),\n",
       " (['pet care', 'salti snack', 'shop bag', 'cereal'], ('irish', 36537)),\n",
       " (['frankfurt'], ('french', 13111)),\n",
       " (['frankfurt', 'hygien articl'], ('french', 13111)),\n",
       " (['frankfurt', 'coff'], ('french', 13111)),\n",
       " (['frankfurt'], ('french', 13111)),\n",
       " (['frankfurt', 'rollsbun'], ('french', 13111)),\n",
       " (['frankfurt', 'rollsbun'], ('french', 13111)),\n",
       " (['frankfurt', 'coff'], ('french', 13111)),\n",
       " (['specialti fat', 'frankfurt', 'frozen potato product', 'rollsbun'],\n",
       "  ('french', 13111)),\n",
       " (['frankfurt', 'rollsbun'], ('french', 13111)),\n",
       " (['frozen dessert', 'frankfurt', 'rollsbun'], ('french', 13111)),\n",
       " (['yogurt', 'frankfurt', 'domest egg'], ('french', 13111)),\n",
       " (['frozen meal', 'shop bag', 'cereal'], ('irish', 36537)),\n",
       " (['frankfurt', 'process chee'], ('french', 13111)),\n",
       " (['yogurt', 'specialti bar', 'cereal'], ('irish', 36537)),\n",
       " (['salti snack', 'cereal'], ('irish', 36537)),\n",
       " (['soft chee',\n",
       "   'frankfurt',\n",
       "   'pip fruit',\n",
       "   'chew gum',\n",
       "   'specialti chocol',\n",
       "   'semifinish bread'],\n",
       "  ('french', 13111)),\n",
       " (['frankfurt', 'rollsbun'], ('french', 13111)),\n",
       " (['salti snack', 'frankfurt', 'slice chee', 'yogurt', 'mayonnai'],\n",
       "  ('french', 13111)),\n",
       " (['frankfurt', 'light bulb'], ('french', 13111)),\n",
       " (['frozen fruit'], ('jamaican', 34911)),\n",
       " (['yogurt', 'frankfurt', 'rollsbun'], ('french', 13111)),\n",
       " (['frankfurt', 'rollsbun', 'fruitveget juic'], ('french', 13111)),\n",
       " (['frankfurt', 'bottl water', 'rollsbun'], ('french', 13111)),\n",
       " (['frankfurt', 'dessert'], ('french', 13111)),\n",
       " (['frankfurt', 'rollsbun'], ('french', 13111)),\n",
       " (['frankfurt', 'rollsbun'], ('french', 13111)),\n",
       " (['frankfurt', 'hygien articl', 'bottl water', 'rollsbun', 'fruitveget juic'],\n",
       "  ('french', 13111)),\n",
       " (['frankfurt', 'rollsbun'], ('french', 13111)),\n",
       " (['yogurt', 'frankfurt'], ('french', 13111)),\n",
       " (['frankfurt'], ('french', 13111)),\n",
       " (['frankfurt', 'rollsbun'], ('french', 13111)),\n",
       " (['frankfurt', 'rollsbun'], ('french', 13111)),\n",
       " (['bottl beer', 'frankfurt'], ('french', 13111)),\n",
       " (['deterg', 'frozen fruit'], ('jamaican', 34911)),\n",
       " (['frozen meal', 'frankfurt', 'shop bag', 'semifinish bread'],\n",
       "  ('french', 13111)),\n",
       " (['pip fruit', 'frankfurt', 'bottl water', 'rollsbun'], ('french', 13111)),\n",
       " (['hamburg meat', 'frankfurt'], ('french', 13111)),\n",
       " (['frankfurt', 'rollsbun', 'fruitveget juic'], ('french', 13111)),\n",
       " (['frankfurt'], ('french', 13111)),\n",
       " (['frankfurt', 'domest egg'], ('french', 13111)),\n",
       " (['pip fruit', 'frankfurt', 'newspap'], ('french', 13111)),\n",
       " (['frankfurt', 'rollsbun'], ('french', 13111)),\n",
       " (['frankfurt'], ('french', 13111)),\n",
       " (['frankfurt', 'frozen potato product'], ('french', 13111)),\n",
       " (['napkin', 'frankfurt', 'rollsbun'], ('french', 13111)),\n",
       " (['frankfurt', 'domest egg', 'rollsbun'], ('french', 13111)),\n",
       " (['frankfurt', 'photofilm'], ('french', 13111)),\n",
       " (['frankfurt', 'brown bread', 'rollsbun', 'shop bag'], ('french', 13111)),\n",
       " (['frankfurt', 'rollsbun'], ('french', 13111)),\n",
       " (['frankfurt'], ('french', 13111)),\n",
       " (['bottl beer', 'frankfurt'], ('french', 13111)),\n",
       " (['bottl beer', 'frankfurt', 'brown bread'], ('french', 13111)),\n",
       " (['frankfurt', 'curd chee'], ('french', 13111)),\n",
       " (['specialti chocol', 'pot plant', 'cereal'], ('irish', 36537)),\n",
       " (['frankfurt', 'rollsbun'], ('french', 13111)),\n",
       " (['deterg', 'cereal'], ('irish', 36537)),\n",
       " (['frankfurt', 'rollsbun'], ('french', 13111)),\n",
       " (['frankfurt', 'dessert'], ('french', 13111)),\n",
       " (['frankfurt', 'rollsbun'], ('french', 13111)),\n",
       " (['soft chee', 'frankfurt', 'rollsbun'], ('french', 13111)),\n",
       " (['chew gum', 'frankfurt', 'rollsbun'], ('french', 13111)),\n",
       " (['frankfurt', 'rollsbun'], ('french', 13111)),\n",
       " (['frankfurt', 'rollsbun'], ('french', 13111)),\n",
       " (['frankfurt'], ('french', 13111)),\n",
       " (['frankfurt'], ('french', 13111)),\n",
       " (['frankfurt', 'rollsbun', 'dish', 'shop bag'], ('french', 13111)),\n",
       " (['bottl beer', 'frankfurt'], ('french', 13111)),\n",
       " (['frankfurt', 'whippedsour cream', 'coff'], ('french', 13111)),\n",
       " (['frankfurt', 'rollsbun'], ('french', 13111)),\n",
       " (['frankfurt'], ('french', 13111)),\n",
       " (['cereal'], ('irish', 36537)),\n",
       " (['frankfurt', 'rollsbun'], ('french', 13111)),\n",
       " (['frankfurt', 'bottl water', 'rollsbun'], ('french', 13111)),\n",
       " (['hamburg meat', 'beverag', 'frankfurt', 'shop bag'], ('french', 13111)),\n",
       " (['frankfurt', 'butter milk', 'coff', 'rollsbun'], ('french', 13111)),\n",
       " (['frankfurt'], ('french', 13111)),\n",
       " (['frankfurt'], ('french', 13111)),\n",
       " (['pet care', 'salti snack', 'shop bag', 'cereal'], ('irish', 36537)),\n",
       " (['frankfurt'], ('french', 13111)),\n",
       " (['frankfurt', 'hygien articl'], ('french', 13111)),\n",
       " (['frankfurt', 'coff'], ('french', 13111)),\n",
       " (['frankfurt'], ('french', 13111)),\n",
       " (['frankfurt', 'rollsbun'], ('french', 13111)),\n",
       " (['frankfurt', 'rollsbun'], ('french', 13111)),\n",
       " (['frankfurt', 'coff'], ('french', 13111)),\n",
       " (['specialti fat', 'frankfurt', 'frozen potato product', 'rollsbun'],\n",
       "  ('french', 13111)),\n",
       " (['frankfurt', 'rollsbun'], ('french', 13111)),\n",
       " (['frozen dessert', 'frankfurt', 'rollsbun'], ('french', 13111)),\n",
       " (['yogurt', 'frankfurt', 'domest egg'], ('french', 13111)),\n",
       " (['frozen meal', 'shop bag', 'cereal'], ('irish', 36537)),\n",
       " (['frankfurt', 'process chee'], ('french', 13111)),\n",
       " (['yogurt', 'specialti bar', 'cereal'], ('irish', 36537)),\n",
       " (['salti snack', 'cereal'], ('irish', 36537)),\n",
       " (['soft chee',\n",
       "   'frankfurt',\n",
       "   'pip fruit',\n",
       "   'chew gum',\n",
       "   'specialti chocol',\n",
       "   'semifinish bread'],\n",
       "  ('french', 13111)),\n",
       " (['frankfurt', 'rollsbun'], ('french', 13111)),\n",
       " (['salti snack', 'frankfurt', 'slice chee', 'yogurt', 'mayonnai'],\n",
       "  ('french', 13111)),\n",
       " (['frankfurt', 'light bulb'], ('french', 13111)),\n",
       " (['frozen fruit'], ('jamaican', 34911)),\n",
       " (['yogurt', 'frankfurt', 'rollsbun'], ('french', 13111)),\n",
       " (['frankfurt', 'rollsbun', 'fruitveget juic'], ('french', 13111))]"
      ]
     },
     "execution_count": 26,
     "metadata": {},
     "output_type": "execute_result"
    }
   ],
   "source": [
    "single_recipes"
   ]
  },
  {
   "cell_type": "code",
   "execution_count": 70,
   "metadata": {},
   "outputs": [
    {
     "data": {
      "text/plain": [
       "(['pork loin',\n",
       "  'champagn',\n",
       "  'frankfurt',\n",
       "  'garlic clove',\n",
       "  'sauerkraut',\n",
       "  'brat',\n",
       "  'knockwurst',\n",
       "  'ground black pepper',\n",
       "  'salt pork',\n",
       "  'onion'],\n",
       " 'french')"
      ]
     },
     "execution_count": 70,
     "metadata": {},
     "output_type": "execute_result"
    }
   ],
   "source": [
    "getRecipeByID(recipes, 13111)"
   ]
  },
  {
   "cell_type": "code",
   "execution_count": null,
   "metadata": {},
   "outputs": [],
   "source": []
  },
  {
   "cell_type": "code",
   "execution_count": null,
   "metadata": {},
   "outputs": [],
   "source": []
  }
 ],
 "metadata": {
  "kernelspec": {
   "display_name": "Python 3",
   "language": "python",
   "name": "python3"
  },
  "language_info": {
   "codemirror_mode": {
    "name": "ipython",
    "version": 3
   },
   "file_extension": ".py",
   "mimetype": "text/x-python",
   "name": "python",
   "nbconvert_exporter": "python",
   "pygments_lexer": "ipython3",
   "version": "3.6.9"
  }
 },
 "nbformat": 4,
 "nbformat_minor": 4
}
