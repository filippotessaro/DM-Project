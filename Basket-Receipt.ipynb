{
 "cells": [
  {
   "cell_type": "markdown",
   "metadata": {},
   "source": [
    "# **Basket and Recipes**\n",
    "This script tries to match each basket in the dataset with the corresponding cuisine style"
   ]
  },
  {
   "cell_type": "markdown",
   "metadata": {},
   "source": [
    "### **Import** section"
   ]
  },
  {
   "cell_type": "code",
   "execution_count": 170,
   "metadata": {},
   "outputs": [],
   "source": [
    "from multiprocessing import Pool\n",
    "from random import sample\n",
    "import numpy as np\n",
    "import pandas as pd\n",
    "import itertools\n",
    "import json"
   ]
  },
  {
   "cell_type": "markdown",
   "metadata": {},
   "source": [
    "---\n",
    "### **Natural Language Toolkit**\n",
    "#### Used for matching items in the basket dataset and recipes dataset"
   ]
  },
  {
   "cell_type": "code",
   "execution_count": 171,
   "metadata": {},
   "outputs": [
    {
     "name": "stderr",
     "output_type": "stream",
     "text": [
      "[nltk_data] Downloading package stopwords to /home/elia/nltk_data...\n",
      "[nltk_data]   Package stopwords is already up-to-date!\n",
      "[nltk_data] Downloading package punkt to /home/elia/nltk_data...\n",
      "[nltk_data]   Package punkt is already up-to-date!\n"
     ]
    }
   ],
   "source": [
    "from nltk.corpus import stopwords\n",
    "from nltk.tokenize import word_tokenize\n",
    "from nltk.stem import PorterStemmer\n",
    "from nltk.tokenize import sent_tokenize, word_tokenize\n",
    "import nltk\n",
    "import re\n",
    "\n",
    "nltk.download('stopwords')\n",
    "nltk.download('punkt')\n",
    "\n",
    "ps = PorterStemmer()\n",
    "\n",
    "# This function is used to convert a string into another similar string\n",
    "# By removing plurals, stop words, punctuation, and so on...\n",
    "def itemParser(s):\n",
    "    \n",
    "    s = s.replace(\"\\n\", \"\")\n",
    "    s = re.sub(r'[^\\w\\s]', '', s)\n",
    "    s = re.sub(r\"(\\d)\", \"\", s)\n",
    "    s = re.sub(r'\\([^)]*\\)', '', s)\n",
    "    s = re.sub(u'\\w*\\u2122', '', s)\n",
    "    s = s.lower()\n",
    "\n",
    "    stop_words = set(stopwords.words('english'))\n",
    "    word_tokens = word_tokenize(s)\n",
    "\n",
    "    filtered_sentence = [ps.stem(w) for w in word_tokens if not w in stop_words]\n",
    "    s = ' '.join(filtered_sentence)\n",
    "    \n",
    "    return s"
   ]
  },
  {
   "cell_type": "markdown",
   "metadata": {},
   "source": [
    "---\n",
    "### **Utility** function"
   ]
  },
  {
   "cell_type": "code",
   "execution_count": 172,
   "metadata": {},
   "outputs": [],
   "source": [
    "def jaccard_sim(s1, s2):\n",
    "    return len(s1.intersection(s2))/len(s1.union(s2))"
   ]
  },
  {
   "cell_type": "markdown",
   "metadata": {},
   "source": [
    "---"
   ]
  },
  {
   "cell_type": "markdown",
   "metadata": {},
   "source": [
    "### **DataSet** Reading"
   ]
  },
  {
   "cell_type": "code",
   "execution_count": 173,
   "metadata": {},
   "outputs": [],
   "source": [
    "baskets = []\n",
    "with open('./data/groceries.csv', 'r') as f:\n",
    "    for line in f:\n",
    "        basket = []\n",
    "        items = line.split(\",\")\n",
    "        for item in items:\n",
    "            parsed = itemParser(item)\n",
    "            basket.append(parsed)\n",
    "        basket = set(basket)\n",
    "        baskets.append(basket)"
   ]
  },
  {
   "cell_type": "markdown",
   "metadata": {},
   "source": [
    "In order to make the computation faster, we take a sample (10%) of the whole recipes dataset"
   ]
  },
  {
   "cell_type": "code",
   "execution_count": 174,
   "metadata": {},
   "outputs": [],
   "source": [
    "keep = 0.1\n",
    "recipes = pd.read_csv('./data/train-clean.csv')\n",
    "sample_recipes = recipes.sample(n=int(len(recipes)*keep))"
   ]
  },
  {
   "cell_type": "markdown",
   "metadata": {},
   "source": [
    "---\n",
    "### **Parsing** Functions"
   ]
  },
  {
   "cell_type": "code",
   "execution_count": 175,
   "metadata": {},
   "outputs": [],
   "source": [
    "def parse_ingredients(string_vector):    \n",
    "    # Compact and remove inner quote symbols\n",
    "    string_vector = string_vector.replace(\"', '\", ',')    \n",
    "    # Remove brakets, first and last quote symbols\n",
    "    string_vector = string_vector[2:-2]    \n",
    "    # Tokenize and make a set\n",
    "    string_vector = set(string_vector.split(\",\"))    \n",
    "    return string_vector"
   ]
  },
  {
   "cell_type": "code",
   "execution_count": 176,
   "metadata": {},
   "outputs": [],
   "source": [
    "def parse_recipes_dataset(recipes):\n",
    "    parsed_recipes = []\n",
    "    for recipe in recipes.itertuples(index=True, name='Pandas'):\n",
    "        cuisine = getattr(recipe, \"cuisine\")\n",
    "        ID = getattr(recipe, \"id\")\n",
    "        ingredients = parse_ingredients(getattr(recipe, \"new_ingredients\"))\n",
    "        parsed_recipes.append((cuisine, ID, ingredients))        \n",
    "    return parsed_recipes"
   ]
  },
  {
   "cell_type": "markdown",
   "metadata": {},
   "source": [
    "---"
   ]
  },
  {
   "cell_type": "markdown",
   "metadata": {},
   "source": [
    "### **Matching**"
   ]
  },
  {
   "cell_type": "code",
   "execution_count": 201,
   "metadata": {},
   "outputs": [],
   "source": [
    "def match(basket, recipes):\n",
    "\n",
    "    # valid is the array containing all those recipes having a positive similarity\n",
    "    valid = []\n",
    "    \n",
    "    # For all the (sampled) recipes in the dataset\n",
    "    for recipe in recipes:\n",
    "        \n",
    "        # Get the data\n",
    "        cuisine     = recipe[0]\n",
    "        ID          = recipe[1]\n",
    "        ingredients = recipe[2]\n",
    "        \n",
    "        # Compute the similarity\n",
    "        sim = jaccard_sim(ingredients, basket)\n",
    "        if sim > 0:\n",
    "            valid.append((float(sim), cuisine, ID))\n",
    "            \n",
    "    basket = list(basket)\n",
    "    \n",
    "    if len(valid) == 0:\n",
    "        return (basket, \"None\")\n",
    "    else:\n",
    "        \n",
    "        # Sort the values with respect to the similarty\n",
    "        valid = sorted(valid, key = lambda x: x[0], reverse=True)\n",
    "        \n",
    "        if len(valid) == 1:\n",
    "            return (basket, (valid[0][0], valid[0][1], valid[0][2]), None, None, None)\n",
    "        elif len(valid) == 2:\n",
    "            return (basket, (valid[0][0], valid[0][1], valid[0][2]), (valid[1][0], valid[1][1], valid[1][2]), None, None)        \n",
    "        elif len(valid) == 3:\n",
    "            return (basket, (valid[0][0], valid[0][1], valid[0][2]), (valid[1][0], valid[1][1], valid[1][2]), (valid[2][0], valid[2][1], valid[2][2]), None)\n",
    "        else:\n",
    "            return (basket, (valid[0][0], valid[0][1], valid[0][2]), (valid[1][0], valid[1][1], valid[1][2]), (valid[2][0], valid[2][1], valid[2][2]), (valid[3][0], valid[3][1], valid[3][2]))"
   ]
  },
  {
   "cell_type": "code",
   "execution_count": 202,
   "metadata": {},
   "outputs": [],
   "source": [
    "# In order to work properly, the dataset must be parsed (convert string ingredients to lists)\n",
    "parsed_dataset = parse_recipes_dataset(recipes)"
   ]
  },
  {
   "cell_type": "code",
   "execution_count": 203,
   "metadata": {},
   "outputs": [],
   "source": [
    "# Wrapper\n",
    "def matching(basket):\n",
    "    return match(basket, parsed_dataset)\n",
    "\n",
    "cores = 6\n",
    "with Pool(cores) as p:\n",
    "    return_values = p.map(matching, baskets)    \n",
    "    best_assoc = []\n",
    "    for value in return_values:\n",
    "        best_assoc.append(value)"
   ]
  },
  {
   "cell_type": "markdown",
   "metadata": {},
   "source": [
    "---\n",
    "### **Cleaning and Saving**"
   ]
  },
  {
   "cell_type": "code",
   "execution_count": 204,
   "metadata": {},
   "outputs": [
    {
     "name": "stdout",
     "output_type": "stream",
     "text": [
      "Max Basket Size: 32\n"
     ]
    }
   ],
   "source": [
    "max_basket_size = 0\n",
    "for basket in baskets:\n",
    "    if len(basket) > max_basket_size:\n",
    "        max_basket_size = len(basket)\n",
    "print(\"Max Basket Size: \" + str(max_basket_size))"
   ]
  },
  {
   "cell_type": "code",
   "execution_count": 205,
   "metadata": {},
   "outputs": [],
   "source": [
    "output = pd.DataFrame(best_assoc)\n",
    "output.columns = [\"Basket\", \"Cuisine 1\", \"Cuisine 2\", \"Cuisine 3\", \"Cuisine 4\"]"
   ]
  },
  {
   "cell_type": "code",
   "execution_count": 206,
   "metadata": {},
   "outputs": [
    {
     "data": {
      "text/html": [
       "<div>\n",
       "<style scoped>\n",
       "    .dataframe tbody tr th:only-of-type {\n",
       "        vertical-align: middle;\n",
       "    }\n",
       "\n",
       "    .dataframe tbody tr th {\n",
       "        vertical-align: top;\n",
       "    }\n",
       "\n",
       "    .dataframe thead th {\n",
       "        text-align: right;\n",
       "    }\n",
       "</style>\n",
       "<table border=\"1\" class=\"dataframe\">\n",
       "  <thead>\n",
       "    <tr style=\"text-align: right;\">\n",
       "      <th></th>\n",
       "      <th>Basket</th>\n",
       "      <th>Cuisine 1</th>\n",
       "      <th>Cuisine 2</th>\n",
       "      <th>Cuisine 3</th>\n",
       "      <th>Cuisine 4</th>\n",
       "    </tr>\n",
       "  </thead>\n",
       "  <tbody>\n",
       "    <tr>\n",
       "      <th>0</th>\n",
       "      <td>[margarin, semifinish bread, citru fruit, read...</td>\n",
       "      <td>(0.14285714285714285, mexican, 3500)</td>\n",
       "      <td>(0.14285714285714285, british, 48044)</td>\n",
       "      <td>(0.14285714285714285, brazilian, 6677)</td>\n",
       "      <td>(0.14285714285714285, chinese, 28154)</td>\n",
       "    </tr>\n",
       "    <tr>\n",
       "      <th>1</th>\n",
       "      <td>[tropic fruit, yogurt, coffe]</td>\n",
       "      <td>(0.25, french, 42120)</td>\n",
       "      <td>(0.25, greek, 39296)</td>\n",
       "      <td>(0.25, cajun_creole, 19588)</td>\n",
       "      <td>(0.25, vietnamese, 39799)</td>\n",
       "    </tr>\n",
       "    <tr>\n",
       "      <th>2</th>\n",
       "      <td>[whole milk]</td>\n",
       "      <td>(0.5, indian, 32030)</td>\n",
       "      <td>(0.5, indian, 9488)</td>\n",
       "      <td>(0.5, indian, 30060)</td>\n",
       "      <td>(0.5, indian, 199)</td>\n",
       "    </tr>\n",
       "    <tr>\n",
       "      <th>3</th>\n",
       "      <td>[yogurt, pip fruit, meat spread, cream chees]</td>\n",
       "      <td>(0.2, brazilian, 42490)</td>\n",
       "      <td>(0.16666666666666666, british, 11757)</td>\n",
       "      <td>(0.16666666666666666, italian, 6809)</td>\n",
       "      <td>(0.16666666666666666, mexican, 1835)</td>\n",
       "    </tr>\n",
       "    <tr>\n",
       "      <th>4</th>\n",
       "      <td>[long life bakeri product, whole milk, condens...</td>\n",
       "      <td>(0.2857142857142857, indian, 37190)</td>\n",
       "      <td>(0.25, filipino, 9049)</td>\n",
       "      <td>(0.25, brazilian, 42981)</td>\n",
       "      <td>(0.2222222222222222, jamaican, 29610)</td>\n",
       "    </tr>\n",
       "    <tr>\n",
       "      <th>...</th>\n",
       "      <td>...</td>\n",
       "      <td>...</td>\n",
       "      <td>...</td>\n",
       "      <td>...</td>\n",
       "      <td>...</td>\n",
       "    </tr>\n",
       "    <tr>\n",
       "      <th>9830</th>\n",
       "      <td>[chocol, hygien articl, redblush wine, chicken...</td>\n",
       "      <td>(0.19047619047619047, southern_us, 38721)</td>\n",
       "      <td>(0.15, french, 16622)</td>\n",
       "      <td>(0.15, mexican, 8541)</td>\n",
       "      <td>(0.14285714285714285, southern_us, 41903)</td>\n",
       "    </tr>\n",
       "    <tr>\n",
       "      <th>9831</th>\n",
       "      <td>[cook chocol]</td>\n",
       "      <td>None</td>\n",
       "      <td>None</td>\n",
       "      <td>None</td>\n",
       "      <td>None</td>\n",
       "    </tr>\n",
       "    <tr>\n",
       "      <th>9832</th>\n",
       "      <td>[yogurt, chicken, butter, domest egg, frozen d...</td>\n",
       "      <td>(0.15384615384615385, italian, 6539)</td>\n",
       "      <td>(0.14285714285714285, mexican, 6181)</td>\n",
       "      <td>(0.14285714285714285, southern_us, 45257)</td>\n",
       "      <td>(0.14285714285714285, greek, 6406)</td>\n",
       "    </tr>\n",
       "    <tr>\n",
       "      <th>9833</th>\n",
       "      <td>[bottl water, bottl beer, soda, semifinish bread]</td>\n",
       "      <td>(0.16666666666666666, southern_us, 46178)</td>\n",
       "      <td>(0.14285714285714285, southern_us, 11876)</td>\n",
       "      <td>(0.1111111111111111, southern_us, 27994)</td>\n",
       "      <td>(0.1, indian, 11494)</td>\n",
       "    </tr>\n",
       "    <tr>\n",
       "      <th>9834</th>\n",
       "      <td>[chicken, veget, shop bag, vinegar, tropic fruit]</td>\n",
       "      <td>(0.25, filipino, 4610)</td>\n",
       "      <td>(0.2, chinese, 8294)</td>\n",
       "      <td>(0.2, filipino, 11964)</td>\n",
       "      <td>(0.18181818181818182, indian, 36980)</td>\n",
       "    </tr>\n",
       "  </tbody>\n",
       "</table>\n",
       "<p>9835 rows × 5 columns</p>\n",
       "</div>"
      ],
      "text/plain": [
       "                                                 Basket  \\\n",
       "0     [margarin, semifinish bread, citru fruit, read...   \n",
       "1                         [tropic fruit, yogurt, coffe]   \n",
       "2                                          [whole milk]   \n",
       "3         [yogurt, pip fruit, meat spread, cream chees]   \n",
       "4     [long life bakeri product, whole milk, condens...   \n",
       "...                                                 ...   \n",
       "9830  [chocol, hygien articl, redblush wine, chicken...   \n",
       "9831                                      [cook chocol]   \n",
       "9832  [yogurt, chicken, butter, domest egg, frozen d...   \n",
       "9833  [bottl water, bottl beer, soda, semifinish bread]   \n",
       "9834  [chicken, veget, shop bag, vinegar, tropic fruit]   \n",
       "\n",
       "                                      Cuisine 1  \\\n",
       "0          (0.14285714285714285, mexican, 3500)   \n",
       "1                         (0.25, french, 42120)   \n",
       "2                          (0.5, indian, 32030)   \n",
       "3                       (0.2, brazilian, 42490)   \n",
       "4           (0.2857142857142857, indian, 37190)   \n",
       "...                                         ...   \n",
       "9830  (0.19047619047619047, southern_us, 38721)   \n",
       "9831                                       None   \n",
       "9832       (0.15384615384615385, italian, 6539)   \n",
       "9833  (0.16666666666666666, southern_us, 46178)   \n",
       "9834                     (0.25, filipino, 4610)   \n",
       "\n",
       "                                      Cuisine 2  \\\n",
       "0         (0.14285714285714285, british, 48044)   \n",
       "1                          (0.25, greek, 39296)   \n",
       "2                           (0.5, indian, 9488)   \n",
       "3         (0.16666666666666666, british, 11757)   \n",
       "4                        (0.25, filipino, 9049)   \n",
       "...                                         ...   \n",
       "9830                      (0.15, french, 16622)   \n",
       "9831                                       None   \n",
       "9832       (0.14285714285714285, mexican, 6181)   \n",
       "9833  (0.14285714285714285, southern_us, 11876)   \n",
       "9834                       (0.2, chinese, 8294)   \n",
       "\n",
       "                                      Cuisine 3  \\\n",
       "0        (0.14285714285714285, brazilian, 6677)   \n",
       "1                   (0.25, cajun_creole, 19588)   \n",
       "2                          (0.5, indian, 30060)   \n",
       "3          (0.16666666666666666, italian, 6809)   \n",
       "4                      (0.25, brazilian, 42981)   \n",
       "...                                         ...   \n",
       "9830                      (0.15, mexican, 8541)   \n",
       "9831                                       None   \n",
       "9832  (0.14285714285714285, southern_us, 45257)   \n",
       "9833   (0.1111111111111111, southern_us, 27994)   \n",
       "9834                     (0.2, filipino, 11964)   \n",
       "\n",
       "                                      Cuisine 4  \n",
       "0         (0.14285714285714285, chinese, 28154)  \n",
       "1                     (0.25, vietnamese, 39799)  \n",
       "2                            (0.5, indian, 199)  \n",
       "3          (0.16666666666666666, mexican, 1835)  \n",
       "4         (0.2222222222222222, jamaican, 29610)  \n",
       "...                                         ...  \n",
       "9830  (0.14285714285714285, southern_us, 41903)  \n",
       "9831                                       None  \n",
       "9832         (0.14285714285714285, greek, 6406)  \n",
       "9833                       (0.1, indian, 11494)  \n",
       "9834       (0.18181818181818182, indian, 36980)  \n",
       "\n",
       "[9835 rows x 5 columns]"
      ]
     },
     "metadata": {},
     "output_type": "display_data"
    }
   ],
   "source": [
    "display(output)"
   ]
  },
  {
   "cell_type": "code",
   "execution_count": 207,
   "metadata": {},
   "outputs": [],
   "source": [
    "def save_assoc_raw(assoc_list):\n",
    "    with open('./data/raw_assoc_basket-recipes.txt', 'w') as out_file:\n",
    "        json.dump(assoc_list, out_file)"
   ]
  },
  {
   "cell_type": "code",
   "execution_count": 208,
   "metadata": {},
   "outputs": [],
   "source": [
    "def save_assoc_pickle(pd_assoc_list):\n",
    "    pd_assoc_list.to_pickle(\"./data/basket-receipts.pkl\")"
   ]
  },
  {
   "cell_type": "code",
   "execution_count": 209,
   "metadata": {},
   "outputs": [],
   "source": [
    "def load_assoc_raw():\n",
    "    with open('./data/raw_assoc_basket-recipes.txt', 'r') as in_file:\n",
    "        return json.load(in_file)"
   ]
  },
  {
   "cell_type": "code",
   "execution_count": 210,
   "metadata": {},
   "outputs": [],
   "source": [
    "def load_assoc_pickle():\n",
    "    return pd.read_pickle(\"./data/basket-receipts.pkl\")"
   ]
  },
  {
   "cell_type": "code",
   "execution_count": 211,
   "metadata": {},
   "outputs": [],
   "source": [
    "save_assoc_raw(best_assoc)\n",
    "test1 = load_assoc_raw()"
   ]
  },
  {
   "cell_type": "code",
   "execution_count": 212,
   "metadata": {},
   "outputs": [],
   "source": [
    "save_assoc_pickle(output)\n",
    "test2 = load_assoc_pickle()"
   ]
  },
  {
   "cell_type": "code",
   "execution_count": 213,
   "metadata": {},
   "outputs": [
    {
     "data": {
      "text/html": [
       "<div>\n",
       "<style scoped>\n",
       "    .dataframe tbody tr th:only-of-type {\n",
       "        vertical-align: middle;\n",
       "    }\n",
       "\n",
       "    .dataframe tbody tr th {\n",
       "        vertical-align: top;\n",
       "    }\n",
       "\n",
       "    .dataframe thead th {\n",
       "        text-align: right;\n",
       "    }\n",
       "</style>\n",
       "<table border=\"1\" class=\"dataframe\">\n",
       "  <thead>\n",
       "    <tr style=\"text-align: right;\">\n",
       "      <th></th>\n",
       "      <th>Basket</th>\n",
       "      <th>Cuisine 1</th>\n",
       "      <th>Cuisine 2</th>\n",
       "      <th>Cuisine 3</th>\n",
       "      <th>Cuisine 4</th>\n",
       "    </tr>\n",
       "  </thead>\n",
       "  <tbody>\n",
       "    <tr>\n",
       "      <th>0</th>\n",
       "      <td>[margarin, semifinish bread, citru fruit, read...</td>\n",
       "      <td>(0.14285714285714285, mexican, 3500)</td>\n",
       "      <td>(0.14285714285714285, british, 48044)</td>\n",
       "      <td>(0.14285714285714285, brazilian, 6677)</td>\n",
       "      <td>(0.14285714285714285, chinese, 28154)</td>\n",
       "    </tr>\n",
       "    <tr>\n",
       "      <th>1</th>\n",
       "      <td>[tropic fruit, yogurt, coffe]</td>\n",
       "      <td>(0.25, french, 42120)</td>\n",
       "      <td>(0.25, greek, 39296)</td>\n",
       "      <td>(0.25, cajun_creole, 19588)</td>\n",
       "      <td>(0.25, vietnamese, 39799)</td>\n",
       "    </tr>\n",
       "    <tr>\n",
       "      <th>2</th>\n",
       "      <td>[whole milk]</td>\n",
       "      <td>(0.5, indian, 32030)</td>\n",
       "      <td>(0.5, indian, 9488)</td>\n",
       "      <td>(0.5, indian, 30060)</td>\n",
       "      <td>(0.5, indian, 199)</td>\n",
       "    </tr>\n",
       "    <tr>\n",
       "      <th>3</th>\n",
       "      <td>[yogurt, pip fruit, meat spread, cream chees]</td>\n",
       "      <td>(0.2, brazilian, 42490)</td>\n",
       "      <td>(0.16666666666666666, british, 11757)</td>\n",
       "      <td>(0.16666666666666666, italian, 6809)</td>\n",
       "      <td>(0.16666666666666666, mexican, 1835)</td>\n",
       "    </tr>\n",
       "    <tr>\n",
       "      <th>4</th>\n",
       "      <td>[long life bakeri product, whole milk, condens...</td>\n",
       "      <td>(0.2857142857142857, indian, 37190)</td>\n",
       "      <td>(0.25, filipino, 9049)</td>\n",
       "      <td>(0.25, brazilian, 42981)</td>\n",
       "      <td>(0.2222222222222222, jamaican, 29610)</td>\n",
       "    </tr>\n",
       "    <tr>\n",
       "      <th>...</th>\n",
       "      <td>...</td>\n",
       "      <td>...</td>\n",
       "      <td>...</td>\n",
       "      <td>...</td>\n",
       "      <td>...</td>\n",
       "    </tr>\n",
       "    <tr>\n",
       "      <th>9830</th>\n",
       "      <td>[chocol, hygien articl, redblush wine, chicken...</td>\n",
       "      <td>(0.19047619047619047, southern_us, 38721)</td>\n",
       "      <td>(0.15, french, 16622)</td>\n",
       "      <td>(0.15, mexican, 8541)</td>\n",
       "      <td>(0.14285714285714285, southern_us, 41903)</td>\n",
       "    </tr>\n",
       "    <tr>\n",
       "      <th>9831</th>\n",
       "      <td>[cook chocol]</td>\n",
       "      <td>None</td>\n",
       "      <td>None</td>\n",
       "      <td>None</td>\n",
       "      <td>None</td>\n",
       "    </tr>\n",
       "    <tr>\n",
       "      <th>9832</th>\n",
       "      <td>[yogurt, chicken, butter, domest egg, frozen d...</td>\n",
       "      <td>(0.15384615384615385, italian, 6539)</td>\n",
       "      <td>(0.14285714285714285, mexican, 6181)</td>\n",
       "      <td>(0.14285714285714285, southern_us, 45257)</td>\n",
       "      <td>(0.14285714285714285, greek, 6406)</td>\n",
       "    </tr>\n",
       "    <tr>\n",
       "      <th>9833</th>\n",
       "      <td>[bottl water, bottl beer, soda, semifinish bread]</td>\n",
       "      <td>(0.16666666666666666, southern_us, 46178)</td>\n",
       "      <td>(0.14285714285714285, southern_us, 11876)</td>\n",
       "      <td>(0.1111111111111111, southern_us, 27994)</td>\n",
       "      <td>(0.1, indian, 11494)</td>\n",
       "    </tr>\n",
       "    <tr>\n",
       "      <th>9834</th>\n",
       "      <td>[chicken, veget, shop bag, vinegar, tropic fruit]</td>\n",
       "      <td>(0.25, filipino, 4610)</td>\n",
       "      <td>(0.2, chinese, 8294)</td>\n",
       "      <td>(0.2, filipino, 11964)</td>\n",
       "      <td>(0.18181818181818182, indian, 36980)</td>\n",
       "    </tr>\n",
       "  </tbody>\n",
       "</table>\n",
       "<p>9835 rows × 5 columns</p>\n",
       "</div>"
      ],
      "text/plain": [
       "                                                 Basket  \\\n",
       "0     [margarin, semifinish bread, citru fruit, read...   \n",
       "1                         [tropic fruit, yogurt, coffe]   \n",
       "2                                          [whole milk]   \n",
       "3         [yogurt, pip fruit, meat spread, cream chees]   \n",
       "4     [long life bakeri product, whole milk, condens...   \n",
       "...                                                 ...   \n",
       "9830  [chocol, hygien articl, redblush wine, chicken...   \n",
       "9831                                      [cook chocol]   \n",
       "9832  [yogurt, chicken, butter, domest egg, frozen d...   \n",
       "9833  [bottl water, bottl beer, soda, semifinish bread]   \n",
       "9834  [chicken, veget, shop bag, vinegar, tropic fruit]   \n",
       "\n",
       "                                      Cuisine 1  \\\n",
       "0          (0.14285714285714285, mexican, 3500)   \n",
       "1                         (0.25, french, 42120)   \n",
       "2                          (0.5, indian, 32030)   \n",
       "3                       (0.2, brazilian, 42490)   \n",
       "4           (0.2857142857142857, indian, 37190)   \n",
       "...                                         ...   \n",
       "9830  (0.19047619047619047, southern_us, 38721)   \n",
       "9831                                       None   \n",
       "9832       (0.15384615384615385, italian, 6539)   \n",
       "9833  (0.16666666666666666, southern_us, 46178)   \n",
       "9834                     (0.25, filipino, 4610)   \n",
       "\n",
       "                                      Cuisine 2  \\\n",
       "0         (0.14285714285714285, british, 48044)   \n",
       "1                          (0.25, greek, 39296)   \n",
       "2                           (0.5, indian, 9488)   \n",
       "3         (0.16666666666666666, british, 11757)   \n",
       "4                        (0.25, filipino, 9049)   \n",
       "...                                         ...   \n",
       "9830                      (0.15, french, 16622)   \n",
       "9831                                       None   \n",
       "9832       (0.14285714285714285, mexican, 6181)   \n",
       "9833  (0.14285714285714285, southern_us, 11876)   \n",
       "9834                       (0.2, chinese, 8294)   \n",
       "\n",
       "                                      Cuisine 3  \\\n",
       "0        (0.14285714285714285, brazilian, 6677)   \n",
       "1                   (0.25, cajun_creole, 19588)   \n",
       "2                          (0.5, indian, 30060)   \n",
       "3          (0.16666666666666666, italian, 6809)   \n",
       "4                      (0.25, brazilian, 42981)   \n",
       "...                                         ...   \n",
       "9830                      (0.15, mexican, 8541)   \n",
       "9831                                       None   \n",
       "9832  (0.14285714285714285, southern_us, 45257)   \n",
       "9833   (0.1111111111111111, southern_us, 27994)   \n",
       "9834                     (0.2, filipino, 11964)   \n",
       "\n",
       "                                      Cuisine 4  \n",
       "0         (0.14285714285714285, chinese, 28154)  \n",
       "1                     (0.25, vietnamese, 39799)  \n",
       "2                            (0.5, indian, 199)  \n",
       "3          (0.16666666666666666, mexican, 1835)  \n",
       "4         (0.2222222222222222, jamaican, 29610)  \n",
       "...                                         ...  \n",
       "9830  (0.14285714285714285, southern_us, 41903)  \n",
       "9831                                       None  \n",
       "9832         (0.14285714285714285, greek, 6406)  \n",
       "9833                       (0.1, indian, 11494)  \n",
       "9834       (0.18181818181818182, indian, 36980)  \n",
       "\n",
       "[9835 rows x 5 columns]"
      ]
     },
     "metadata": {},
     "output_type": "display_data"
    }
   ],
   "source": [
    "display(test2)"
   ]
  },
  {
   "cell_type": "markdown",
   "metadata": {},
   "source": [
    "---"
   ]
  },
  {
   "cell_type": "code",
   "execution_count": null,
   "metadata": {},
   "outputs": [],
   "source": []
  }
 ],
 "metadata": {
  "kernelspec": {
   "display_name": "Python 3",
   "language": "python",
   "name": "python3"
  },
  "language_info": {
   "codemirror_mode": {
    "name": "ipython",
    "version": 3
   },
   "file_extension": ".py",
   "mimetype": "text/x-python",
   "name": "python",
   "nbconvert_exporter": "python",
   "pygments_lexer": "ipython3",
   "version": "3.6.9"
  }
 },
 "nbformat": 4,
 "nbformat_minor": 4
}
