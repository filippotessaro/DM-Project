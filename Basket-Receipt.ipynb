{
 "cells": [
  {
   "cell_type": "code",
   "execution_count": 1,
   "metadata": {},
   "outputs": [],
   "source": [
    "from random import sample\n",
    "import numpy as np\n",
    "import pandas as pd\n",
    "import itertools\n",
    "pd.set_option('display.expand_frame_repr', False)\n",
    "\n",
    "%matplotlib inline\n",
    "import matplotlib\n",
    "from matplotlib import pyplot as plt"
   ]
  },
  {
   "cell_type": "code",
   "execution_count": 2,
   "metadata": {},
   "outputs": [],
   "source": [
    "from nltk.corpus import stopwords\n",
    "from nltk.tokenize import word_tokenize\n",
    "from nltk.stem import PorterStemmer\n",
    "from nltk.tokenize import sent_tokenize, word_tokenize\n",
    "import nltk\n",
    "import re\n",
    "\n",
    "#nltk.download('stopwords')\n",
    "#nltk.download('punkt')\n",
    "ps = PorterStemmer()\n",
    "\n",
    "\n",
    "def itemParser(s):\n",
    "    \n",
    "    s = s.replace(\"\\n\", \"\")\n",
    "    s = re.sub(r'[^\\w\\s]', '', s)\n",
    "    s = re.sub(r\"(\\d)\", \"\", s)\n",
    "    s = re.sub(r'\\([^)]*\\)', '', s)\n",
    "    s = re.sub(u'\\w*\\u2122', '', s)\n",
    "\n",
    "    s = s.lower()\n",
    "\n",
    "    stop_words = set(stopwords.words('english'))\n",
    "    word_tokens = word_tokenize(s)\n",
    "\n",
    "    filtered_sentence = [ps.stem(w) for w in word_tokens if not w in stop_words]\n",
    "    s = ' '.join(filtered_sentence)\n",
    "    \n",
    "    return s"
   ]
  },
  {
   "cell_type": "code",
   "execution_count": 3,
   "metadata": {},
   "outputs": [],
   "source": [
    "superm = []\n",
    "baskets = []\n",
    "with open('./data/groceries.csv', 'r') as f:\n",
    "    for line in f:\n",
    "        basket = []\n",
    "        items = line.split(\",\")\n",
    "        for item in items:\n",
    "            parsed = itemParser(item)\n",
    "            superm.append(parsed)\n",
    "            basket.append(parsed)\n",
    "        baskets.append(basket)"
   ]
  },
  {
   "cell_type": "code",
   "execution_count": 4,
   "metadata": {},
   "outputs": [],
   "source": [
    "receipts = pd.read_csv('./data/train-clean.csv')"
   ]
  },
  {
   "cell_type": "code",
   "execution_count": 8,
   "metadata": {},
   "outputs": [],
   "source": [
    "def jaccard_sim(s1, s2):\n",
    "    return len(s1.intersection(s2))/len(s1.union(s2))"
   ]
  },
  {
   "cell_type": "code",
   "execution_count": null,
   "metadata": {},
   "outputs": [],
   "source": []
  },
  {
   "cell_type": "code",
   "execution_count": null,
   "metadata": {},
   "outputs": [],
   "source": []
  },
  {
   "cell_type": "code",
   "execution_count": 32,
   "metadata": {},
   "outputs": [],
   "source": [
    "def match(basket):\n",
    "\n",
    "    valid = []\n",
    "    for row in receipts.itertuples(index=True, name='Pandas'):\n",
    "\n",
    "        c = getattr(row, \"cuisine\")    \n",
    "        x = getattr(row, \"new_ingredients\")\n",
    "        x = x.replace(\"', '\", ',')    \n",
    "        x = x[2:-2]\n",
    "        x = set(x.split(\",\"))\n",
    "        b = set(basket)\n",
    "        j = jaccard_sim(x, b)\n",
    "\n",
    "        if j > 0:\n",
    "            valid.append((j, c))\n",
    "            \n",
    "        valid = sorted(valid, key = lambda x: x[0], reverse=True)\n",
    "            \n",
    "\n",
    "    tmp = {}\n",
    "    for v in valid:\n",
    "        if v[1] not in tmp:\n",
    "            tmp[v[1]] = 0\n",
    "        tmp[v[1]] += v[0]\n",
    "        \n",
    "    total = 0\n",
    "    for k in tmp:\n",
    "        total += tmp[k]\n",
    "            \n",
    "    for k in tmp:\n",
    "        tmp[k] = 100*(tmp[k]/total)\n",
    "        \n",
    "    out = []\n",
    "    for i in tmp:\n",
    "        out.append([i, tmp[i]])\n",
    "\n",
    "    out = sorted(out, key = lambda x: x[1], reverse=True)\n",
    "\n",
    "    return out\n",
    "    "
   ]
  },
  {
   "cell_type": "code",
   "execution_count": 52,
   "metadata": {},
   "outputs": [
    {
     "data": {
      "text/plain": [
       "[['italian', 24.00701101670278],\n",
       " ['vietnamese', 14.347689704385902],\n",
       " ['french', 10.162946873940014],\n",
       " ['southern_us', 8.480004142929678],\n",
       " ['mexican', 8.40698979595051],\n",
       " ['cajun_creole', 8.048342468472669],\n",
       " ['irish', 7.781546585539875],\n",
       " ['japanese', 4.114787512656692],\n",
       " ['greek', 4.001938243991935],\n",
       " ['british', 3.11261863421595],\n",
       " ['brazilian', 2.6284335133379133],\n",
       " ['indian', 1.562412490900555],\n",
       " ['thai', 1.3833860596515333],\n",
       " ['russian', 1.1318613215330726],\n",
       " ['jamaican', 0.8300316357909199]]"
      ]
     },
     "execution_count": 52,
     "metadata": {},
     "output_type": "execute_result"
    }
   ],
   "source": [
    "match(baskets[1])"
   ]
  },
  {
   "cell_type": "code",
   "execution_count": 100,
   "metadata": {},
   "outputs": [],
   "source": [
    "final = []"
   ]
  },
  {
   "cell_type": "code",
   "execution_count": 97,
   "metadata": {},
   "outputs": [
    {
     "name": "stdout",
     "output_type": "stream",
     "text": [
      "10\n",
      "20\n",
      "30\n",
      "40\n"
     ]
    },
    {
     "ename": "KeyboardInterrupt",
     "evalue": "",
     "output_type": "error",
     "traceback": [
      "\u001b[0;31m---------------------------------------------------------------------------\u001b[0m",
      "\u001b[0;31mKeyboardInterrupt\u001b[0m                         Traceback (most recent call last)",
      "\u001b[0;32m<ipython-input-97-b09f6f7966b4>\u001b[0m in \u001b[0;36m<module>\u001b[0;34m\u001b[0m\n\u001b[1;32m      5\u001b[0m \u001b[0;32mfor\u001b[0m \u001b[0mb\u001b[0m \u001b[0;32min\u001b[0m \u001b[0mbaskets\u001b[0m\u001b[0;34m[\u001b[0m\u001b[0;36m492\u001b[0m\u001b[0;34m:\u001b[0m\u001b[0;36m601\u001b[0m\u001b[0;34m]\u001b[0m\u001b[0;34m:\u001b[0m\u001b[0;34m\u001b[0m\u001b[0;34m\u001b[0m\u001b[0m\n\u001b[1;32m      6\u001b[0m \u001b[0;34m\u001b[0m\u001b[0m\n\u001b[0;32m----> 7\u001b[0;31m     \u001b[0mm\u001b[0m \u001b[0;34m=\u001b[0m \u001b[0mmatch\u001b[0m\u001b[0;34m(\u001b[0m\u001b[0mb\u001b[0m\u001b[0;34m)\u001b[0m\u001b[0;34m\u001b[0m\u001b[0;34m\u001b[0m\u001b[0m\n\u001b[0m\u001b[1;32m      8\u001b[0m     \u001b[0;32mif\u001b[0m \u001b[0mlen\u001b[0m\u001b[0;34m(\u001b[0m\u001b[0mm\u001b[0m\u001b[0;34m)\u001b[0m \u001b[0;34m==\u001b[0m \u001b[0;36m0\u001b[0m\u001b[0;34m:\u001b[0m\u001b[0;34m\u001b[0m\u001b[0;34m\u001b[0m\u001b[0m\n\u001b[1;32m      9\u001b[0m         \u001b[0mfinal\u001b[0m\u001b[0;34m.\u001b[0m\u001b[0mappend\u001b[0m\u001b[0;34m(\u001b[0m\u001b[0;34m(\u001b[0m\u001b[0mb\u001b[0m\u001b[0;34m,\u001b[0m \u001b[0;34m\"None\"\u001b[0m\u001b[0;34m)\u001b[0m\u001b[0;34m)\u001b[0m\u001b[0;34m\u001b[0m\u001b[0;34m\u001b[0m\u001b[0m\n",
      "\u001b[0;32m<ipython-input-32-6a1cc377bc01>\u001b[0m in \u001b[0;36mmatch\u001b[0;34m(basket)\u001b[0m\n\u001b[1;32m     15\u001b[0m             \u001b[0mvalid\u001b[0m\u001b[0;34m.\u001b[0m\u001b[0mappend\u001b[0m\u001b[0;34m(\u001b[0m\u001b[0;34m(\u001b[0m\u001b[0mj\u001b[0m\u001b[0;34m,\u001b[0m \u001b[0mc\u001b[0m\u001b[0;34m)\u001b[0m\u001b[0;34m)\u001b[0m\u001b[0;34m\u001b[0m\u001b[0;34m\u001b[0m\u001b[0m\n\u001b[1;32m     16\u001b[0m \u001b[0;34m\u001b[0m\u001b[0m\n\u001b[0;32m---> 17\u001b[0;31m         \u001b[0mvalid\u001b[0m \u001b[0;34m=\u001b[0m \u001b[0msorted\u001b[0m\u001b[0;34m(\u001b[0m\u001b[0mvalid\u001b[0m\u001b[0;34m,\u001b[0m \u001b[0mkey\u001b[0m \u001b[0;34m=\u001b[0m \u001b[0;32mlambda\u001b[0m \u001b[0mx\u001b[0m\u001b[0;34m:\u001b[0m \u001b[0mx\u001b[0m\u001b[0;34m[\u001b[0m\u001b[0;36m0\u001b[0m\u001b[0;34m]\u001b[0m\u001b[0;34m,\u001b[0m \u001b[0mreverse\u001b[0m\u001b[0;34m=\u001b[0m\u001b[0;32mTrue\u001b[0m\u001b[0;34m)\u001b[0m\u001b[0;34m\u001b[0m\u001b[0;34m\u001b[0m\u001b[0m\n\u001b[0m\u001b[1;32m     18\u001b[0m \u001b[0;34m\u001b[0m\u001b[0m\n\u001b[1;32m     19\u001b[0m \u001b[0;34m\u001b[0m\u001b[0m\n",
      "\u001b[0;31mKeyboardInterrupt\u001b[0m: "
     ]
    }
   ],
   "source": [
    "i = 0\n",
    "for b in baskets[:600]:\n",
    "    \n",
    "    m = match(b)\n",
    "    if len(m) == 0:\n",
    "        final.append((b, \"None\"))\n",
    "    else:\n",
    "        if len(m) == 1:\n",
    "            final.append((b, (m[0][0], m[0][1])))\n",
    "        elif len(m) == 2:\n",
    "            final.append((b, (m[0][0], m[0][1]), (m[1][0], m[1][1])))\n",
    "        else:\n",
    "            final.append((b, (m[0][0], m[0][1]), (m[1][0], m[1][1]), (m[2][0], m[2][1])))\n",
    "            \n",
    "    i += 1\n",
    "    if i%5 == 0:\n",
    "        print(i)"
   ]
  },
  {
   "cell_type": "code",
   "execution_count": 99,
   "metadata": {},
   "outputs": [
    {
     "data": {
      "text/plain": [
       "45"
      ]
     },
     "execution_count": 99,
     "metadata": {},
     "output_type": "execute_result"
    }
   ],
   "source": [
    "len(final)"
   ]
  },
  {
   "cell_type": "code",
   "execution_count": null,
   "metadata": {},
   "outputs": [],
   "source": []
  },
  {
   "cell_type": "code",
   "execution_count": 197,
   "metadata": {},
   "outputs": [],
   "source": [
    "from multiprocessing import Pool\n",
    "\n",
    "def f(b):\n",
    "    m = match(b[0])\n",
    "    if len(m) == 0:\n",
    "        ret = (b[0], \"None\")\n",
    "    else:\n",
    "        if len(m) == 1:\n",
    "            ret = (b[0], (m[0][0], m[0][1]))\n",
    "        elif len(m) == 2:\n",
    "            ret = (b[0], (m[0][0], m[0][1]), (m[1][0], m[1][1]))\n",
    "        else:\n",
    "            ret = (b[0], (m[0][0], m[0][1]), (m[1][0], m[1][1]), (m[2][0], m[2][1]))\n",
    "    return ret\n",
    "\n",
    "'''\n",
    "num = list(range(9835))\n",
    "Z = list(zip(baskets, num))'''\n",
    "\n",
    "with Pool(6) as p:\n",
    "    ris = p.map(f, Z[9200:])\n",
    "    for r in ris:\n",
    "        valid.append(r)"
   ]
  },
  {
   "cell_type": "code",
   "execution_count": 198,
   "metadata": {},
   "outputs": [
    {
     "data": {
      "text/plain": [
       "9835"
      ]
     },
     "execution_count": 198,
     "metadata": {},
     "output_type": "execute_result"
    }
   ],
   "source": [
    "len(valid)"
   ]
  },
  {
   "cell_type": "code",
   "execution_count": 254,
   "metadata": {},
   "outputs": [],
   "source": [
    "newVect = []\n",
    "leng = 10\n",
    "for v in valid:\n",
    "    bas = v[0]\n",
    "    if isinstance(bas, tuple):\n",
    "        bas = bas[0]\n",
    "    \n",
    "    itemrow = []\n",
    "    itemrow.append(bas)\n",
    "    \n",
    "    missing = 32 - len(bas)\n",
    "    for _ in range(missing):\n",
    "        bas.append(\"\")\n",
    "    \n",
    "    itemrow.append(v[1])\n",
    "    \n",
    "    if len(v) >= 3:\n",
    "        itemrow.append(v[2])\n",
    "    else:        \n",
    "        itemrow.append(\"None\")\n",
    "        \n",
    "    if len(v) >= 4:\n",
    "        itemrow.append(v[3])\n",
    "    else:        \n",
    "        itemrow.append(\"None\")\n",
    "    \n",
    "    newVect.append(itemrow)\n",
    "    "
   ]
  },
  {
   "cell_type": "code",
   "execution_count": 261,
   "metadata": {},
   "outputs": [
    {
     "data": {
      "text/html": [
       "<div>\n",
       "<style scoped>\n",
       "    .dataframe tbody tr th:only-of-type {\n",
       "        vertical-align: middle;\n",
       "    }\n",
       "\n",
       "    .dataframe tbody tr th {\n",
       "        vertical-align: top;\n",
       "    }\n",
       "\n",
       "    .dataframe thead th {\n",
       "        text-align: right;\n",
       "    }\n",
       "</style>\n",
       "<table border=\"1\" class=\"dataframe\">\n",
       "  <thead>\n",
       "    <tr style=\"text-align: right;\">\n",
       "      <th></th>\n",
       "      <th>Basket</th>\n",
       "      <th>Cuisine 1</th>\n",
       "      <th>Cuisine 2</th>\n",
       "      <th>Cuisine 3</th>\n",
       "    </tr>\n",
       "  </thead>\n",
       "  <tbody>\n",
       "    <tr>\n",
       "      <th>0</th>\n",
       "      <td>[citru fruit, semifinish bread, margarin, read...</td>\n",
       "      <td>(southern_us, 26.2716193710661)</td>\n",
       "      <td>(italian, 15.472477917954564)</td>\n",
       "      <td>(irish, 10.5824849581435)</td>\n",
       "    </tr>\n",
       "    <tr>\n",
       "      <th>1</th>\n",
       "      <td>[tropic fruit, yogurt, coffe, , , , , , , , , ...</td>\n",
       "      <td>(italian, 24.00701101670278)</td>\n",
       "      <td>(vietnamese, 14.347689704385902)</td>\n",
       "      <td>(french, 10.162946873940014)</td>\n",
       "    </tr>\n",
       "    <tr>\n",
       "      <th>2</th>\n",
       "      <td>[whole milk, , , , , , , , , , , , , , , , , ,...</td>\n",
       "      <td>(southern_us, 23.582198352735574)</td>\n",
       "      <td>(italian, 20.153301317917553)</td>\n",
       "      <td>(french, 16.226102444360386)</td>\n",
       "    </tr>\n",
       "    <tr>\n",
       "      <th>3</th>\n",
       "      <td>[pip fruit, yogurt, cream chees, meat spread, ...</td>\n",
       "      <td>(mexican, 33.228198692510745)</td>\n",
       "      <td>(southern_us, 20.261089748334847)</td>\n",
       "      <td>(italian, 19.004440220658868)</td>\n",
       "    </tr>\n",
       "    <tr>\n",
       "      <th>4</th>\n",
       "      <td>[veget, whole milk, condens milk, long life ba...</td>\n",
       "      <td>(southern_us, 19.32058683814756)</td>\n",
       "      <td>(italian, 18.231888936520285)</td>\n",
       "      <td>(french, 12.977334797740781)</td>\n",
       "    </tr>\n",
       "    <tr>\n",
       "      <th>...</th>\n",
       "      <td>...</td>\n",
       "      <td>...</td>\n",
       "      <td>...</td>\n",
       "      <td>...</td>\n",
       "    </tr>\n",
       "    <tr>\n",
       "      <th>9830</th>\n",
       "      <td>[sausag, chicken, beef, hamburg meat, citru fr...</td>\n",
       "      <td>(southern_us, 22.659456570440092)</td>\n",
       "      <td>(italian, 18.005963859911034)</td>\n",
       "      <td>(mexican, 10.033571663673774)</td>\n",
       "    </tr>\n",
       "    <tr>\n",
       "      <th>9831</th>\n",
       "      <td>[cook chocol, , , , , , , , , , , , , , , , , ...</td>\n",
       "      <td>None</td>\n",
       "      <td>None</td>\n",
       "      <td>None</td>\n",
       "    </tr>\n",
       "    <tr>\n",
       "      <th>9832</th>\n",
       "      <td>[chicken, citru fruit, veget, butter, yogurt, ...</td>\n",
       "      <td>(southern_us, 23.841784480144742)</td>\n",
       "      <td>(italian, 19.309751101751697)</td>\n",
       "      <td>(mexican, 10.013761140826167)</td>\n",
       "    </tr>\n",
       "    <tr>\n",
       "      <th>9833</th>\n",
       "      <td>[semifinish bread, bottl water, soda, bottl be...</td>\n",
       "      <td>(southern_us, 46.82311299507751)</td>\n",
       "      <td>(indian, 30.526949791159375)</td>\n",
       "      <td>(chinese, 8.45553517169925)</td>\n",
       "    </tr>\n",
       "    <tr>\n",
       "      <th>9834</th>\n",
       "      <td>[chicken, tropic fruit, veget, vinegar, shop b...</td>\n",
       "      <td>(mexican, 17.177875609989883)</td>\n",
       "      <td>(chinese, 11.870126014032515)</td>\n",
       "      <td>(southern_us, 10.617398993764)</td>\n",
       "    </tr>\n",
       "  </tbody>\n",
       "</table>\n",
       "<p>9835 rows × 4 columns</p>\n",
       "</div>"
      ],
      "text/plain": [
       "                                                 Basket                          Cuisine 1                          Cuisine 2                       Cuisine 3\n",
       "0     [citru fruit, semifinish bread, margarin, read...    (southern_us, 26.2716193710661)      (italian, 15.472477917954564)       (irish, 10.5824849581435)\n",
       "1     [tropic fruit, yogurt, coffe, , , , , , , , , ...       (italian, 24.00701101670278)   (vietnamese, 14.347689704385902)    (french, 10.162946873940014)\n",
       "2     [whole milk, , , , , , , , , , , , , , , , , ,...  (southern_us, 23.582198352735574)      (italian, 20.153301317917553)    (french, 16.226102444360386)\n",
       "3     [pip fruit, yogurt, cream chees, meat spread, ...      (mexican, 33.228198692510745)  (southern_us, 20.261089748334847)   (italian, 19.004440220658868)\n",
       "4     [veget, whole milk, condens milk, long life ba...   (southern_us, 19.32058683814756)      (italian, 18.231888936520285)    (french, 12.977334797740781)\n",
       "...                                                 ...                                ...                                ...                             ...\n",
       "9830  [sausag, chicken, beef, hamburg meat, citru fr...  (southern_us, 22.659456570440092)      (italian, 18.005963859911034)   (mexican, 10.033571663673774)\n",
       "9831  [cook chocol, , , , , , , , , , , , , , , , , ...                               None                               None                            None\n",
       "9832  [chicken, citru fruit, veget, butter, yogurt, ...  (southern_us, 23.841784480144742)      (italian, 19.309751101751697)   (mexican, 10.013761140826167)\n",
       "9833  [semifinish bread, bottl water, soda, bottl be...   (southern_us, 46.82311299507751)       (indian, 30.526949791159375)     (chinese, 8.45553517169925)\n",
       "9834  [chicken, tropic fruit, veget, vinegar, shop b...      (mexican, 17.177875609989883)      (chinese, 11.870126014032515)  (southern_us, 10.617398993764)\n",
       "\n",
       "[9835 rows x 4 columns]"
      ]
     },
     "execution_count": 261,
     "metadata": {},
     "output_type": "execute_result"
    }
   ],
   "source": [
    "output = pd.DataFrame(newVect)\n",
    "output.columns = [\"Basket\", \"Cuisine 1\", \"Cuisine 2\", \"Cuisine 3\"]\n",
    "\n",
    "output"
   ]
  },
  {
   "cell_type": "code",
   "execution_count": null,
   "metadata": {},
   "outputs": [],
   "source": []
  },
  {
   "cell_type": "code",
   "execution_count": null,
   "metadata": {},
   "outputs": [],
   "source": []
  },
  {
   "cell_type": "code",
   "execution_count": null,
   "metadata": {},
   "outputs": [],
   "source": []
  },
  {
   "cell_type": "code",
   "execution_count": 200,
   "metadata": {},
   "outputs": [],
   "source": [
    "import json\n",
    "with open('output.txt', 'w') as out_file:\n",
    "    json.dump(valid, out_file)"
   ]
  },
  {
   "cell_type": "code",
   "execution_count": 201,
   "metadata": {},
   "outputs": [],
   "source": [
    "with open('output.txt', 'r') as in_file:\n",
    "    your_list = json.load(in_file)"
   ]
  },
  {
   "cell_type": "code",
   "execution_count": null,
   "metadata": {},
   "outputs": [],
   "source": []
  },
  {
   "cell_type": "code",
   "execution_count": 202,
   "metadata": {},
   "outputs": [
    {
     "data": {
      "text/plain": [
       "9835"
      ]
     },
     "execution_count": 202,
     "metadata": {},
     "output_type": "execute_result"
    }
   ],
   "source": [
    "len(your_list)"
   ]
  },
  {
   "cell_type": "code",
   "execution_count": 203,
   "metadata": {},
   "outputs": [
    {
     "data": {
      "text/plain": [
       "[[['citru fruit', 'semifinish bread', 'margarin', 'readi soup'], 0],\n",
       " ['southern_us', 26.2716193710661],\n",
       " ['italian', 15.472477917954564],\n",
       " ['irish', 10.5824849581435]]"
      ]
     },
     "execution_count": 203,
     "metadata": {},
     "output_type": "execute_result"
    }
   ],
   "source": [
    "your_list[0]"
   ]
  },
  {
   "cell_type": "code",
   "execution_count": null,
   "metadata": {},
   "outputs": [],
   "source": []
  },
  {
   "cell_type": "code",
   "execution_count": null,
   "metadata": {},
   "outputs": [],
   "source": []
  },
  {
   "cell_type": "code",
   "execution_count": null,
   "metadata": {},
   "outputs": [],
   "source": []
  },
  {
   "cell_type": "code",
   "execution_count": 264,
   "metadata": {},
   "outputs": [],
   "source": [
    "output.to_pickle(\"./data/basket-receipts.pkl\")"
   ]
  },
  {
   "cell_type": "code",
   "execution_count": 265,
   "metadata": {},
   "outputs": [
    {
     "data": {
      "text/html": [
       "<div>\n",
       "<style scoped>\n",
       "    .dataframe tbody tr th:only-of-type {\n",
       "        vertical-align: middle;\n",
       "    }\n",
       "\n",
       "    .dataframe tbody tr th {\n",
       "        vertical-align: top;\n",
       "    }\n",
       "\n",
       "    .dataframe thead th {\n",
       "        text-align: right;\n",
       "    }\n",
       "</style>\n",
       "<table border=\"1\" class=\"dataframe\">\n",
       "  <thead>\n",
       "    <tr style=\"text-align: right;\">\n",
       "      <th></th>\n",
       "      <th>Basket</th>\n",
       "      <th>Cuisine 1</th>\n",
       "      <th>Cuisine 2</th>\n",
       "      <th>Cuisine 3</th>\n",
       "    </tr>\n",
       "  </thead>\n",
       "  <tbody>\n",
       "    <tr>\n",
       "      <th>0</th>\n",
       "      <td>[citru fruit, semifinish bread, margarin, read...</td>\n",
       "      <td>(southern_us, 26.2716193710661)</td>\n",
       "      <td>(italian, 15.472477917954564)</td>\n",
       "      <td>(irish, 10.5824849581435)</td>\n",
       "    </tr>\n",
       "    <tr>\n",
       "      <th>1</th>\n",
       "      <td>[tropic fruit, yogurt, coffe, , , , , , , , , ...</td>\n",
       "      <td>(italian, 24.00701101670278)</td>\n",
       "      <td>(vietnamese, 14.347689704385902)</td>\n",
       "      <td>(french, 10.162946873940014)</td>\n",
       "    </tr>\n",
       "    <tr>\n",
       "      <th>2</th>\n",
       "      <td>[whole milk, , , , , , , , , , , , , , , , , ,...</td>\n",
       "      <td>(southern_us, 23.582198352735574)</td>\n",
       "      <td>(italian, 20.153301317917553)</td>\n",
       "      <td>(french, 16.226102444360386)</td>\n",
       "    </tr>\n",
       "    <tr>\n",
       "      <th>3</th>\n",
       "      <td>[pip fruit, yogurt, cream chees, meat spread, ...</td>\n",
       "      <td>(mexican, 33.228198692510745)</td>\n",
       "      <td>(southern_us, 20.261089748334847)</td>\n",
       "      <td>(italian, 19.004440220658868)</td>\n",
       "    </tr>\n",
       "    <tr>\n",
       "      <th>4</th>\n",
       "      <td>[veget, whole milk, condens milk, long life ba...</td>\n",
       "      <td>(southern_us, 19.32058683814756)</td>\n",
       "      <td>(italian, 18.231888936520285)</td>\n",
       "      <td>(french, 12.977334797740781)</td>\n",
       "    </tr>\n",
       "    <tr>\n",
       "      <th>...</th>\n",
       "      <td>...</td>\n",
       "      <td>...</td>\n",
       "      <td>...</td>\n",
       "      <td>...</td>\n",
       "    </tr>\n",
       "    <tr>\n",
       "      <th>9830</th>\n",
       "      <td>[sausag, chicken, beef, hamburg meat, citru fr...</td>\n",
       "      <td>(southern_us, 22.659456570440092)</td>\n",
       "      <td>(italian, 18.005963859911034)</td>\n",
       "      <td>(mexican, 10.033571663673774)</td>\n",
       "    </tr>\n",
       "    <tr>\n",
       "      <th>9831</th>\n",
       "      <td>[cook chocol, , , , , , , , , , , , , , , , , ...</td>\n",
       "      <td>None</td>\n",
       "      <td>None</td>\n",
       "      <td>None</td>\n",
       "    </tr>\n",
       "    <tr>\n",
       "      <th>9832</th>\n",
       "      <td>[chicken, citru fruit, veget, butter, yogurt, ...</td>\n",
       "      <td>(southern_us, 23.841784480144742)</td>\n",
       "      <td>(italian, 19.309751101751697)</td>\n",
       "      <td>(mexican, 10.013761140826167)</td>\n",
       "    </tr>\n",
       "    <tr>\n",
       "      <th>9833</th>\n",
       "      <td>[semifinish bread, bottl water, soda, bottl be...</td>\n",
       "      <td>(southern_us, 46.82311299507751)</td>\n",
       "      <td>(indian, 30.526949791159375)</td>\n",
       "      <td>(chinese, 8.45553517169925)</td>\n",
       "    </tr>\n",
       "    <tr>\n",
       "      <th>9834</th>\n",
       "      <td>[chicken, tropic fruit, veget, vinegar, shop b...</td>\n",
       "      <td>(mexican, 17.177875609989883)</td>\n",
       "      <td>(chinese, 11.870126014032515)</td>\n",
       "      <td>(southern_us, 10.617398993764)</td>\n",
       "    </tr>\n",
       "  </tbody>\n",
       "</table>\n",
       "<p>9835 rows × 4 columns</p>\n",
       "</div>"
      ],
      "text/plain": [
       "                                                 Basket                          Cuisine 1                          Cuisine 2                       Cuisine 3\n",
       "0     [citru fruit, semifinish bread, margarin, read...    (southern_us, 26.2716193710661)      (italian, 15.472477917954564)       (irish, 10.5824849581435)\n",
       "1     [tropic fruit, yogurt, coffe, , , , , , , , , ...       (italian, 24.00701101670278)   (vietnamese, 14.347689704385902)    (french, 10.162946873940014)\n",
       "2     [whole milk, , , , , , , , , , , , , , , , , ,...  (southern_us, 23.582198352735574)      (italian, 20.153301317917553)    (french, 16.226102444360386)\n",
       "3     [pip fruit, yogurt, cream chees, meat spread, ...      (mexican, 33.228198692510745)  (southern_us, 20.261089748334847)   (italian, 19.004440220658868)\n",
       "4     [veget, whole milk, condens milk, long life ba...   (southern_us, 19.32058683814756)      (italian, 18.231888936520285)    (french, 12.977334797740781)\n",
       "...                                                 ...                                ...                                ...                             ...\n",
       "9830  [sausag, chicken, beef, hamburg meat, citru fr...  (southern_us, 22.659456570440092)      (italian, 18.005963859911034)   (mexican, 10.033571663673774)\n",
       "9831  [cook chocol, , , , , , , , , , , , , , , , , ...                               None                               None                            None\n",
       "9832  [chicken, citru fruit, veget, butter, yogurt, ...  (southern_us, 23.841784480144742)      (italian, 19.309751101751697)   (mexican, 10.013761140826167)\n",
       "9833  [semifinish bread, bottl water, soda, bottl be...   (southern_us, 46.82311299507751)       (indian, 30.526949791159375)     (chinese, 8.45553517169925)\n",
       "9834  [chicken, tropic fruit, veget, vinegar, shop b...      (mexican, 17.177875609989883)      (chinese, 11.870126014032515)  (southern_us, 10.617398993764)\n",
       "\n",
       "[9835 rows x 4 columns]"
      ]
     },
     "execution_count": 265,
     "metadata": {},
     "output_type": "execute_result"
    }
   ],
   "source": [
    "unpickled_df = pd.read_pickle(\"./data/basket-receipts.pkl\")\n",
    "unpickled_df"
   ]
  },
  {
   "cell_type": "code",
   "execution_count": null,
   "metadata": {},
   "outputs": [],
   "source": []
  }
 ],
 "metadata": {
  "kernelspec": {
   "display_name": "Python 3",
   "language": "python",
   "name": "python3"
  },
  "language_info": {
   "codemirror_mode": {
    "name": "ipython",
    "version": 3
   },
   "file_extension": ".py",
   "mimetype": "text/x-python",
   "name": "python",
   "nbconvert_exporter": "python",
   "pygments_lexer": "ipython3",
   "version": "3.6.9"
  }
 },
 "nbformat": 4,
 "nbformat_minor": 4
}
